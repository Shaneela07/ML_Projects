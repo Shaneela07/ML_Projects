{
  "cells": [
    {
      "cell_type": "markdown",
      "id": "694842e1",
      "metadata": {
        "id": "694842e1"
      },
      "source": [
        "# Module 9: K-Means Clustering"
      ]
    },
    {
      "cell_type": "markdown",
      "id": "15da6f6e",
      "metadata": {
        "id": "15da6f6e"
      },
      "source": [
        "#       Assignment-1\n",
        "\n",
        "#       Assignment-2"
      ]
    },
    {
      "cell_type": "markdown",
      "id": "400819ca",
      "metadata": {
        "id": "400819ca"
      },
      "source": [
        "# Problem Statement:\n",
        "    \n",
        "You work in XYZ Company as a Python developer. The company officials want\n",
        "you to write code for a clustering problem."
      ]
    },
    {
      "cell_type": "markdown",
      "id": "ed475e5b",
      "metadata": {
        "id": "ed475e5b"
      },
      "source": [
        "Dataset: customers.csv\n",
        "    \n",
        "Tasks To Be Performed:"
      ]
    },
    {
      "cell_type": "markdown",
      "id": "d32621ba",
      "metadata": {
        "id": "d32621ba"
      },
      "source": [
        "1. K-Means Clustering:\n",
        "● Load customer data"
      ]
    },
    {
      "cell_type": "code",
      "execution_count": null,
      "id": "59e45eaf",
      "metadata": {
        "id": "59e45eaf"
      },
      "outputs": [],
      "source": [
        "import numpy as np\n",
        "import pandas as pd\n",
        "import matplotlib.pyplot as plt\n",
        "import seaborn as sns\n",
        "import warnings\n",
        "warnings.filterwarnings(\"ignore\")"
      ]
    },
    {
      "cell_type": "code",
      "execution_count": null,
      "id": "f01bfc04",
      "metadata": {
        "id": "f01bfc04"
      },
      "outputs": [],
      "source": [
        "## Load customer data\n",
        "data = pd.read_csv(\"customers.csv\")"
      ]
    },
    {
      "cell_type": "code",
      "execution_count": null,
      "id": "f880441d",
      "metadata": {
        "id": "f880441d",
        "outputId": "d806370e-ad6c-4ef9-917e-b7d877065575"
      },
      "outputs": [
        {
          "data": {
            "text/html": [
              "<div>\n",
              "<style scoped>\n",
              "    .dataframe tbody tr th:only-of-type {\n",
              "        vertical-align: middle;\n",
              "    }\n",
              "\n",
              "    .dataframe tbody tr th {\n",
              "        vertical-align: top;\n",
              "    }\n",
              "\n",
              "    .dataframe thead th {\n",
              "        text-align: right;\n",
              "    }\n",
              "</style>\n",
              "<table border=\"1\" class=\"dataframe\">\n",
              "  <thead>\n",
              "    <tr style=\"text-align: right;\">\n",
              "      <th></th>\n",
              "      <th>CustomerID</th>\n",
              "      <th>Gender</th>\n",
              "      <th>Age</th>\n",
              "      <th>Annual Income (k$)</th>\n",
              "      <th>Spending Score (1-100)</th>\n",
              "    </tr>\n",
              "  </thead>\n",
              "  <tbody>\n",
              "    <tr>\n",
              "      <th>0</th>\n",
              "      <td>1</td>\n",
              "      <td>Male</td>\n",
              "      <td>19</td>\n",
              "      <td>15</td>\n",
              "      <td>39</td>\n",
              "    </tr>\n",
              "    <tr>\n",
              "      <th>1</th>\n",
              "      <td>2</td>\n",
              "      <td>Male</td>\n",
              "      <td>21</td>\n",
              "      <td>15</td>\n",
              "      <td>81</td>\n",
              "    </tr>\n",
              "    <tr>\n",
              "      <th>2</th>\n",
              "      <td>3</td>\n",
              "      <td>Female</td>\n",
              "      <td>20</td>\n",
              "      <td>16</td>\n",
              "      <td>6</td>\n",
              "    </tr>\n",
              "    <tr>\n",
              "      <th>3</th>\n",
              "      <td>4</td>\n",
              "      <td>Female</td>\n",
              "      <td>23</td>\n",
              "      <td>16</td>\n",
              "      <td>77</td>\n",
              "    </tr>\n",
              "    <tr>\n",
              "      <th>4</th>\n",
              "      <td>5</td>\n",
              "      <td>Female</td>\n",
              "      <td>31</td>\n",
              "      <td>17</td>\n",
              "      <td>40</td>\n",
              "    </tr>\n",
              "  </tbody>\n",
              "</table>\n",
              "</div>"
            ],
            "text/plain": [
              "   CustomerID  Gender  Age  Annual Income (k$)  Spending Score (1-100)\n",
              "0           1    Male   19                  15                      39\n",
              "1           2    Male   21                  15                      81\n",
              "2           3  Female   20                  16                       6\n",
              "3           4  Female   23                  16                      77\n",
              "4           5  Female   31                  17                      40"
            ]
          },
          "execution_count": 58,
          "metadata": {},
          "output_type": "execute_result"
        }
      ],
      "source": [
        "data.head()"
      ]
    },
    {
      "cell_type": "code",
      "execution_count": null,
      "id": "d2fea0de",
      "metadata": {
        "id": "d2fea0de",
        "outputId": "6ea15466-4fb4-4fe0-c06b-cd970d628e20"
      },
      "outputs": [
        {
          "data": {
            "text/plain": [
              "Index(['CustomerID', 'Gender', 'Age', 'Annual Income (k$)',\n",
              "       'Spending Score (1-100)'],\n",
              "      dtype='object')"
            ]
          },
          "execution_count": 59,
          "metadata": {},
          "output_type": "execute_result"
        }
      ],
      "source": [
        "data.columns"
      ]
    },
    {
      "cell_type": "code",
      "execution_count": null,
      "id": "8bcf419e",
      "metadata": {
        "id": "8bcf419e",
        "outputId": "14f2b5c0-dbe9-486d-b049-5ffa9a9f6b57"
      },
      "outputs": [
        {
          "data": {
            "text/plain": [
              "(200, 5)"
            ]
          },
          "execution_count": 60,
          "metadata": {},
          "output_type": "execute_result"
        }
      ],
      "source": [
        "data.shape"
      ]
    },
    {
      "cell_type": "markdown",
      "id": "f06d8d34",
      "metadata": {
        "id": "f06d8d34"
      },
      "source": [
        "● Check the number of cells in each column with null values"
      ]
    },
    {
      "cell_type": "code",
      "execution_count": null,
      "id": "9bd02aac",
      "metadata": {
        "id": "9bd02aac",
        "outputId": "efaad55d-680b-4f08-facc-a81f6884ca79"
      },
      "outputs": [
        {
          "data": {
            "text/plain": [
              "CustomerID                0\n",
              "Gender                    0\n",
              "Age                       0\n",
              "Annual Income (k$)        0\n",
              "Spending Score (1-100)    0\n",
              "dtype: int64"
            ]
          },
          "execution_count": 61,
          "metadata": {},
          "output_type": "execute_result"
        }
      ],
      "source": [
        "data.isnull().sum()"
      ]
    },
    {
      "cell_type": "markdown",
      "id": "fbc9a08f",
      "metadata": {
        "id": "fbc9a08f"
      },
      "source": [
        "no null values found in dataset"
      ]
    },
    {
      "cell_type": "markdown",
      "id": "b54c4df3",
      "metadata": {
        "id": "b54c4df3"
      },
      "source": [
        "● Create a scatter plot with Age as X and Spending Score as Y\n"
      ]
    },
    {
      "cell_type": "code",
      "execution_count": null,
      "id": "3fc4a01c",
      "metadata": {
        "id": "3fc4a01c"
      },
      "outputs": [],
      "source": [
        "X = data['Age']\n",
        "Y = data['Spending Score (1-100)']"
      ]
    },
    {
      "cell_type": "code",
      "execution_count": null,
      "id": "1ae0023b",
      "metadata": {
        "id": "1ae0023b",
        "outputId": "4cd7b5f5-c498-4304-b147-e65e0c92b9bc"
      },
      "outputs": [
        {
          "data": {
            "image/png": "[encoded data removed]",
            "text/plain": [
              "<Figure size 432x288 with 1 Axes>"
            ]
          },
          "metadata": {
            "needs_background": "light"
          },
          "output_type": "display_data"
        }
      ],
      "source": [
        "plt.scatter(X,Y)\n",
        "plt.xlabel('Age')\n",
        "plt.ylabel('Spending Score')\n",
        "plt.show()"
      ]
    },
    {
      "cell_type": "markdown",
      "id": "e02368be",
      "metadata": {
        "id": "e02368be"
      },
      "source": [
        "● Draw a scatter plot displaying data points colored on the basis of clusters"
      ]
    },
    {
      "cell_type": "code",
      "execution_count": null,
      "id": "665721e0",
      "metadata": {
        "id": "665721e0"
      },
      "outputs": [],
      "source": [
        "from sklearn.preprocessing import LabelEncoder\n",
        "le = LabelEncoder()\n",
        "data['Gender'] = le.fit_transform(data['Gender']) ##  Convert categorical variable into integers using label encoder"
      ]
    },
    {
      "cell_type": "code",
      "execution_count": null,
      "id": "eecbd8b2",
      "metadata": {
        "id": "eecbd8b2",
        "outputId": "1bc33b88-88e7-4fa5-cad8-b9990035d61e"
      },
      "outputs": [
        {
          "data": {
            "text/html": [
              "<div>\n",
              "<style scoped>\n",
              "    .dataframe tbody tr th:only-of-type {\n",
              "        vertical-align: middle;\n",
              "    }\n",
              "\n",
              "    .dataframe tbody tr th {\n",
              "        vertical-align: top;\n",
              "    }\n",
              "\n",
              "    .dataframe thead th {\n",
              "        text-align: right;\n",
              "    }\n",
              "</style>\n",
              "<table border=\"1\" class=\"dataframe\">\n",
              "  <thead>\n",
              "    <tr style=\"text-align: right;\">\n",
              "      <th></th>\n",
              "      <th>CustomerID</th>\n",
              "      <th>Gender</th>\n",
              "      <th>Age</th>\n",
              "      <th>Annual Income (k$)</th>\n",
              "      <th>Spending Score (1-100)</th>\n",
              "    </tr>\n",
              "  </thead>\n",
              "  <tbody>\n",
              "    <tr>\n",
              "      <th>0</th>\n",
              "      <td>1</td>\n",
              "      <td>1</td>\n",
              "      <td>19</td>\n",
              "      <td>15</td>\n",
              "      <td>39</td>\n",
              "    </tr>\n",
              "    <tr>\n",
              "      <th>1</th>\n",
              "      <td>2</td>\n",
              "      <td>1</td>\n",
              "      <td>21</td>\n",
              "      <td>15</td>\n",
              "      <td>81</td>\n",
              "    </tr>\n",
              "    <tr>\n",
              "      <th>2</th>\n",
              "      <td>3</td>\n",
              "      <td>0</td>\n",
              "      <td>20</td>\n",
              "      <td>16</td>\n",
              "      <td>6</td>\n",
              "    </tr>\n",
              "    <tr>\n",
              "      <th>3</th>\n",
              "      <td>4</td>\n",
              "      <td>0</td>\n",
              "      <td>23</td>\n",
              "      <td>16</td>\n",
              "      <td>77</td>\n",
              "    </tr>\n",
              "    <tr>\n",
              "      <th>4</th>\n",
              "      <td>5</td>\n",
              "      <td>0</td>\n",
              "      <td>31</td>\n",
              "      <td>17</td>\n",
              "      <td>40</td>\n",
              "    </tr>\n",
              "  </tbody>\n",
              "</table>\n",
              "</div>"
            ],
            "text/plain": [
              "   CustomerID  Gender  Age  Annual Income (k$)  Spending Score (1-100)\n",
              "0           1       1   19                  15                      39\n",
              "1           2       1   21                  15                      81\n",
              "2           3       0   20                  16                       6\n",
              "3           4       0   23                  16                      77\n",
              "4           5       0   31                  17                      40"
            ]
          },
          "execution_count": 65,
          "metadata": {},
          "output_type": "execute_result"
        }
      ],
      "source": [
        "data.head()"
      ]
    },
    {
      "cell_type": "code",
      "execution_count": null,
      "id": "8101b98e",
      "metadata": {
        "id": "8101b98e"
      },
      "outputs": [],
      "source": [
        "from sklearn.preprocessing import MinMaxScaler\n",
        "scaler = MinMaxScaler()\n",
        "data1 = scaler.fit_transform(data) ## NORMALIZE THE DATA THROUGH MIN MAX SCALER"
      ]
    },
    {
      "cell_type": "code",
      "execution_count": null,
      "id": "5399b401",
      "metadata": {
        "id": "5399b401"
      },
      "outputs": [],
      "source": [
        "cols = data.columns"
      ]
    },
    {
      "cell_type": "code",
      "execution_count": null,
      "id": "f02e5043",
      "metadata": {
        "id": "f02e5043",
        "outputId": "5d99bb39-6c11-4606-ee04-874003116294"
      },
      "outputs": [
        {
          "data": {
            "text/html": [
              "<div>\n",
              "<style scoped>\n",
              "    .dataframe tbody tr th:only-of-type {\n",
              "        vertical-align: middle;\n",
              "    }\n",
              "\n",
              "    .dataframe tbody tr th {\n",
              "        vertical-align: top;\n",
              "    }\n",
              "\n",
              "    .dataframe thead tr th {\n",
              "        text-align: left;\n",
              "    }\n",
              "</style>\n",
              "<table border=\"1\" class=\"dataframe\">\n",
              "  <thead>\n",
              "    <tr>\n",
              "      <th></th>\n",
              "      <th>CustomerID</th>\n",
              "      <th>Gender</th>\n",
              "      <th>Age</th>\n",
              "      <th>Annual Income (k$)</th>\n",
              "      <th>Spending Score (1-100)</th>\n",
              "    </tr>\n",
              "  </thead>\n",
              "  <tbody>\n",
              "    <tr>\n",
              "      <th>0</th>\n",
              "      <td>0.000000</td>\n",
              "      <td>1.0</td>\n",
              "      <td>0.019231</td>\n",
              "      <td>0.000000</td>\n",
              "      <td>0.387755</td>\n",
              "    </tr>\n",
              "    <tr>\n",
              "      <th>1</th>\n",
              "      <td>0.005025</td>\n",
              "      <td>1.0</td>\n",
              "      <td>0.057692</td>\n",
              "      <td>0.000000</td>\n",
              "      <td>0.816327</td>\n",
              "    </tr>\n",
              "    <tr>\n",
              "      <th>2</th>\n",
              "      <td>0.010050</td>\n",
              "      <td>0.0</td>\n",
              "      <td>0.038462</td>\n",
              "      <td>0.008197</td>\n",
              "      <td>0.051020</td>\n",
              "    </tr>\n",
              "    <tr>\n",
              "      <th>3</th>\n",
              "      <td>0.015075</td>\n",
              "      <td>0.0</td>\n",
              "      <td>0.096154</td>\n",
              "      <td>0.008197</td>\n",
              "      <td>0.775510</td>\n",
              "    </tr>\n",
              "    <tr>\n",
              "      <th>4</th>\n",
              "      <td>0.020101</td>\n",
              "      <td>0.0</td>\n",
              "      <td>0.250000</td>\n",
              "      <td>0.016393</td>\n",
              "      <td>0.397959</td>\n",
              "    </tr>\n",
              "    <tr>\n",
              "      <th>...</th>\n",
              "      <td>...</td>\n",
              "      <td>...</td>\n",
              "      <td>...</td>\n",
              "      <td>...</td>\n",
              "      <td>...</td>\n",
              "    </tr>\n",
              "    <tr>\n",
              "      <th>195</th>\n",
              "      <td>0.979899</td>\n",
              "      <td>0.0</td>\n",
              "      <td>0.326923</td>\n",
              "      <td>0.860656</td>\n",
              "      <td>0.795918</td>\n",
              "    </tr>\n",
              "    <tr>\n",
              "      <th>196</th>\n",
              "      <td>0.984925</td>\n",
              "      <td>0.0</td>\n",
              "      <td>0.519231</td>\n",
              "      <td>0.909836</td>\n",
              "      <td>0.275510</td>\n",
              "    </tr>\n",
              "    <tr>\n",
              "      <th>197</th>\n",
              "      <td>0.989950</td>\n",
              "      <td>1.0</td>\n",
              "      <td>0.269231</td>\n",
              "      <td>0.909836</td>\n",
              "      <td>0.744898</td>\n",
              "    </tr>\n",
              "    <tr>\n",
              "      <th>198</th>\n",
              "      <td>0.994975</td>\n",
              "      <td>1.0</td>\n",
              "      <td>0.269231</td>\n",
              "      <td>1.000000</td>\n",
              "      <td>0.173469</td>\n",
              "    </tr>\n",
              "    <tr>\n",
              "      <th>199</th>\n",
              "      <td>1.000000</td>\n",
              "      <td>1.0</td>\n",
              "      <td>0.230769</td>\n",
              "      <td>1.000000</td>\n",
              "      <td>0.836735</td>\n",
              "    </tr>\n",
              "  </tbody>\n",
              "</table>\n",
              "<p>200 rows × 5 columns</p>\n",
              "</div>"
            ],
            "text/plain": [
              "    CustomerID Gender       Age Annual Income (k$) Spending Score (1-100)\n",
              "0     0.000000    1.0  0.019231           0.000000               0.387755\n",
              "1     0.005025    1.0  0.057692           0.000000               0.816327\n",
              "2     0.010050    0.0  0.038462           0.008197               0.051020\n",
              "3     0.015075    0.0  0.096154           0.008197               0.775510\n",
              "4     0.020101    0.0  0.250000           0.016393               0.397959\n",
              "..         ...    ...       ...                ...                    ...\n",
              "195   0.979899    0.0  0.326923           0.860656               0.795918\n",
              "196   0.984925    0.0  0.519231           0.909836               0.275510\n",
              "197   0.989950    1.0  0.269231           0.909836               0.744898\n",
              "198   0.994975    1.0  0.269231           1.000000               0.173469\n",
              "199   1.000000    1.0  0.230769           1.000000               0.836735\n",
              "\n",
              "[200 rows x 5 columns]"
            ]
          },
          "execution_count": 68,
          "metadata": {},
          "output_type": "execute_result"
        }
      ],
      "source": [
        "data2=pd.DataFrame(data1,columns=[cols])\n",
        "data2                                       ##  Normalized dataset"
      ]
    },
    {
      "cell_type": "code",
      "execution_count": null,
      "id": "859f5e06",
      "metadata": {
        "id": "859f5e06",
        "outputId": "1fcdd441-d7cf-4ce7-ba72-a622f08fb418"
      },
      "outputs": [
        {
          "data": {
            "text/plain": [
              "array([2, 1, 2, 1, 2, 1, 2, 1, 0, 1, 0, 1, 0, 1, 2, 1, 2, 1, 0, 1, 2, 1,\n",
              "       2, 1, 0, 1, 2, 1, 2, 1, 0, 1, 0, 1, 2, 1, 2, 1, 2, 1, 0, 1, 0, 1,\n",
              "       0, 1, 0, 1, 2, 2, 0, 1, 1, 0, 0, 0, 0, 0, 1, 0, 0, 1, 0, 0, 0, 1,\n",
              "       0, 0, 1, 2, 0, 0, 0, 0, 0, 1, 0, 2, 1, 0, 0, 1, 0, 0, 1, 0, 0, 1,\n",
              "       1, 0, 0, 2, 0, 2, 2, 1, 0, 1, 0, 1, 2, 0, 0, 1, 0, 2, 0, 0, 0, 0,\n",
              "       0, 1, 2, 1, 1, 1, 0, 0, 0, 0, 1, 2, 1, 1, 2, 1, 2, 1, 0, 1, 2, 1,\n",
              "       2, 1, 2, 1, 2, 1, 2, 1, 0, 1, 2, 1, 2, 1, 0, 1, 2, 1, 2, 1, 2, 1,\n",
              "       2, 1, 2, 1, 2, 1, 0, 1, 2, 1, 0, 1, 2, 1, 2, 1, 2, 1, 2, 1, 0, 1,\n",
              "       0, 1, 0, 1, 2, 1, 2, 1, 2, 1, 0, 1, 2, 1, 2, 1, 2, 1, 2, 1, 2, 1,\n",
              "       2, 1])"
            ]
          },
          "execution_count": 69,
          "metadata": {},
          "output_type": "execute_result"
        }
      ],
      "source": [
        "from sklearn.cluster import KMeans\n",
        "km = KMeans(n_clusters = 3)\n",
        "y_pred = km.fit_predict(data2[['Age','Spending Score (1-100)']])\n",
        "y_pred"
      ]
    },
    {
      "cell_type": "code",
      "execution_count": null,
      "id": "ed7c9e9b",
      "metadata": {
        "id": "ed7c9e9b",
        "outputId": "3c20ecca-15bd-4ccf-bb28-0b77b300d497"
      },
      "outputs": [
        {
          "data": {
            "text/html": [
              "<div>\n",
              "<style scoped>\n",
              "    .dataframe tbody tr th:only-of-type {\n",
              "        vertical-align: middle;\n",
              "    }\n",
              "\n",
              "    .dataframe tbody tr th {\n",
              "        vertical-align: top;\n",
              "    }\n",
              "\n",
              "    .dataframe thead tr th {\n",
              "        text-align: left;\n",
              "    }\n",
              "</style>\n",
              "<table border=\"1\" class=\"dataframe\">\n",
              "  <thead>\n",
              "    <tr>\n",
              "      <th></th>\n",
              "      <th>CustomerID</th>\n",
              "      <th>Gender</th>\n",
              "      <th>Age</th>\n",
              "      <th>Annual Income (k$)</th>\n",
              "      <th>Spending Score (1-100)</th>\n",
              "      <th>cluster</th>\n",
              "    </tr>\n",
              "  </thead>\n",
              "  <tbody>\n",
              "    <tr>\n",
              "      <th>195</th>\n",
              "      <td>0.979899</td>\n",
              "      <td>0.0</td>\n",
              "      <td>0.326923</td>\n",
              "      <td>0.860656</td>\n",
              "      <td>0.795918</td>\n",
              "      <td>1</td>\n",
              "    </tr>\n",
              "    <tr>\n",
              "      <th>196</th>\n",
              "      <td>0.984925</td>\n",
              "      <td>0.0</td>\n",
              "      <td>0.519231</td>\n",
              "      <td>0.909836</td>\n",
              "      <td>0.275510</td>\n",
              "      <td>2</td>\n",
              "    </tr>\n",
              "    <tr>\n",
              "      <th>197</th>\n",
              "      <td>0.989950</td>\n",
              "      <td>1.0</td>\n",
              "      <td>0.269231</td>\n",
              "      <td>0.909836</td>\n",
              "      <td>0.744898</td>\n",
              "      <td>1</td>\n",
              "    </tr>\n",
              "    <tr>\n",
              "      <th>198</th>\n",
              "      <td>0.994975</td>\n",
              "      <td>1.0</td>\n",
              "      <td>0.269231</td>\n",
              "      <td>1.000000</td>\n",
              "      <td>0.173469</td>\n",
              "      <td>2</td>\n",
              "    </tr>\n",
              "    <tr>\n",
              "      <th>199</th>\n",
              "      <td>1.000000</td>\n",
              "      <td>1.0</td>\n",
              "      <td>0.230769</td>\n",
              "      <td>1.000000</td>\n",
              "      <td>0.836735</td>\n",
              "      <td>1</td>\n",
              "    </tr>\n",
              "  </tbody>\n",
              "</table>\n",
              "</div>"
            ],
            "text/plain": [
              "    CustomerID Gender       Age Annual Income (k$) Spending Score (1-100)  \\\n",
              "195   0.979899    0.0  0.326923           0.860656               0.795918   \n",
              "196   0.984925    0.0  0.519231           0.909836               0.275510   \n",
              "197   0.989950    1.0  0.269231           0.909836               0.744898   \n",
              "198   0.994975    1.0  0.269231           1.000000               0.173469   \n",
              "199   1.000000    1.0  0.230769           1.000000               0.836735   \n",
              "\n",
              "    cluster  \n",
              "195       1  \n",
              "196       2  \n",
              "197       1  \n",
              "198       2  \n",
              "199       1  "
            ]
          },
          "execution_count": 70,
          "metadata": {},
          "output_type": "execute_result"
        }
      ],
      "source": [
        "data2['cluster'] = y_pred\n",
        "data2.tail()"
      ]
    },
    {
      "cell_type": "code",
      "execution_count": null,
      "id": "198e9ac4",
      "metadata": {
        "id": "198e9ac4",
        "outputId": "4dfa27b7-69ea-4763-bdfb-b7c85fafd932"
      },
      "outputs": [
        {
          "data": {
            "text/plain": [
              "array([[0.7323201 , 0.40108624],\n",
              "       [0.20565611, 0.73961585],\n",
              "       [0.32656023, 0.23912206]])"
            ]
          },
          "execution_count": 71,
          "metadata": {},
          "output_type": "execute_result"
        }
      ],
      "source": [
        "km.cluster_centers_"
      ]
    },
    {
      "cell_type": "code",
      "execution_count": null,
      "id": "1978c4c0",
      "metadata": {
        "id": "1978c4c0"
      },
      "outputs": [],
      "source": [
        "df1 = data2[y_pred == 0]\n",
        "df2 = data2[y_pred == 1]\n",
        "df3 = data2[y_pred == 2]\n",
        "# df4 = data2[y_pred == 3]"
      ]
    },
    {
      "cell_type": "markdown",
      "id": "432f4dd1",
      "metadata": {
        "id": "432f4dd1"
      },
      "source": [
        "● Draw a scatter plot displaying data points colored on the basis of\n",
        "clusters"
      ]
    },
    {
      "cell_type": "code",
      "execution_count": null,
      "id": "cd72c699",
      "metadata": {
        "id": "cd72c699",
        "outputId": "70603033-706c-4ada-d28a-98f66204aba5"
      },
      "outputs": [
        {
          "data": {
            "image/png": "[encoded data removed]",
            "text/plain": [
              "<Figure size 432x288 with 1 Axes>"
            ]
          },
          "metadata": {
            "needs_background": "light"
          },
          "output_type": "display_data"
        }
      ],
      "source": [
        "plt.scatter(df1['Age'],df1['Spending Score (1-100)'],color='green')\n",
        "plt.scatter(df2['Age'],df2['Spending Score (1-100)'],color='red')\n",
        "plt.scatter(df3['Age'],df3['Spending Score (1-100)'],color='blue')\n",
        "#plt.scatter(df4['Age'],df4['Spending Score (1-100)'],color='cyan')\n",
        "plt.scatter(km.cluster_centers_[:, 0], km.cluster_centers_[:, 1], s = 200,marker = \"*\", c = 'black')\n",
        "plt.xlabel('Age')\n",
        "plt.ylabel('Spending Score')\n",
        "plt.show()"
      ]
    },
    {
      "cell_type": "markdown",
      "id": "3584aff4",
      "metadata": {
        "id": "3584aff4"
      },
      "source": [
        "# Use Elbow method to find optimal number of clusters\n"
      ]
    },
    {
      "cell_type": "code",
      "execution_count": null,
      "id": "b39ea85f",
      "metadata": {
        "id": "b39ea85f",
        "outputId": "a4346d65-d86b-4365-b6fb-e04e6b92fdb0"
      },
      "outputs": [
        {
          "data": {
            "image/png": "[encoded data removed]",
            "text/plain": [
              "<Figure size 432x288 with 1 Axes>"
            ]
          },
          "metadata": {
            "needs_background": "light"
          },
          "output_type": "display_data"
        }
      ],
      "source": [
        "clusters = []\n",
        "for i in range(1,11):\n",
        "    km = KMeans(n_clusters = i,max_iter= 300,random_state = 42)\n",
        "    km.fit_predict(data2)\n",
        "    clusters.append(km.inertia_)\n",
        "\n",
        "plt.plot(range(1,11),clusters,marker='*')\n",
        "\n",
        "plt.title('The Elbow Method')\n",
        "plt.xlabel('Number of Clusters')\n",
        "plt.ylabel('Sum of Squarred Distance')\n",
        "plt.show()"
      ]
    },
    {
      "cell_type": "markdown",
      "id": "0a14a44a",
      "metadata": {
        "id": "0a14a44a"
      },
      "source": [
        "'3' is optimum number of clusters. Because the most break in the chart is at that point. This is how we will select the\n",
        " optimal n_clusters."
      ]
    },
    {
      "cell_type": "markdown",
      "id": "5c8842e7",
      "metadata": {
        "id": "5c8842e7"
      },
      "source": [
        "# Module 9: K-Means Case Study"
      ]
    },
    {
      "cell_type": "markdown",
      "id": "130ec723",
      "metadata": {
        "id": "130ec723"
      },
      "source": [
        "# Problem Statement:\n",
        "    \n",
        "Consider yourself to be Sam who is a data scientist. He has been approached by\n",
        "a retail car showroom to help them segregate the cars into different clusters."
      ]
    },
    {
      "cell_type": "code",
      "execution_count": null,
      "id": "d411c5d8",
      "metadata": {
        "id": "d411c5d8",
        "outputId": "0ce0769d-26f9-4420-945f-e9c407fb0125"
      },
      "outputs": [
        {
          "data": {
            "text/html": [
              "<div>\n",
              "<style scoped>\n",
              "    .dataframe tbody tr th:only-of-type {\n",
              "        vertical-align: middle;\n",
              "    }\n",
              "\n",
              "    .dataframe tbody tr th {\n",
              "        vertical-align: top;\n",
              "    }\n",
              "\n",
              "    .dataframe thead th {\n",
              "        text-align: right;\n",
              "    }\n",
              "</style>\n",
              "<table border=\"1\" class=\"dataframe\">\n",
              "  <thead>\n",
              "    <tr style=\"text-align: right;\">\n",
              "      <th></th>\n",
              "      <th>model</th>\n",
              "      <th>mpg</th>\n",
              "      <th>cyl</th>\n",
              "      <th>disp</th>\n",
              "      <th>hp</th>\n",
              "      <th>drat</th>\n",
              "      <th>wt</th>\n",
              "      <th>qsec</th>\n",
              "      <th>vs</th>\n",
              "      <th>am</th>\n",
              "      <th>gear</th>\n",
              "      <th>carb</th>\n",
              "    </tr>\n",
              "  </thead>\n",
              "  <tbody>\n",
              "    <tr>\n",
              "      <th>0</th>\n",
              "      <td>Mazda RX4</td>\n",
              "      <td>21.0</td>\n",
              "      <td>6</td>\n",
              "      <td>160.0</td>\n",
              "      <td>110</td>\n",
              "      <td>3.90</td>\n",
              "      <td>2.620</td>\n",
              "      <td>16.46</td>\n",
              "      <td>0</td>\n",
              "      <td>1</td>\n",
              "      <td>4</td>\n",
              "      <td>4</td>\n",
              "    </tr>\n",
              "    <tr>\n",
              "      <th>1</th>\n",
              "      <td>Mazda RX4 Wag</td>\n",
              "      <td>21.0</td>\n",
              "      <td>6</td>\n",
              "      <td>160.0</td>\n",
              "      <td>110</td>\n",
              "      <td>3.90</td>\n",
              "      <td>2.875</td>\n",
              "      <td>17.02</td>\n",
              "      <td>0</td>\n",
              "      <td>1</td>\n",
              "      <td>4</td>\n",
              "      <td>4</td>\n",
              "    </tr>\n",
              "    <tr>\n",
              "      <th>2</th>\n",
              "      <td>Datsun 710</td>\n",
              "      <td>22.8</td>\n",
              "      <td>4</td>\n",
              "      <td>108.0</td>\n",
              "      <td>93</td>\n",
              "      <td>3.85</td>\n",
              "      <td>2.320</td>\n",
              "      <td>18.61</td>\n",
              "      <td>1</td>\n",
              "      <td>1</td>\n",
              "      <td>4</td>\n",
              "      <td>1</td>\n",
              "    </tr>\n",
              "    <tr>\n",
              "      <th>3</th>\n",
              "      <td>Hornet 4 Drive</td>\n",
              "      <td>21.4</td>\n",
              "      <td>6</td>\n",
              "      <td>258.0</td>\n",
              "      <td>110</td>\n",
              "      <td>3.08</td>\n",
              "      <td>3.215</td>\n",
              "      <td>19.44</td>\n",
              "      <td>1</td>\n",
              "      <td>0</td>\n",
              "      <td>3</td>\n",
              "      <td>1</td>\n",
              "    </tr>\n",
              "    <tr>\n",
              "      <th>4</th>\n",
              "      <td>Hornet Sportabout</td>\n",
              "      <td>18.7</td>\n",
              "      <td>8</td>\n",
              "      <td>360.0</td>\n",
              "      <td>175</td>\n",
              "      <td>3.15</td>\n",
              "      <td>3.440</td>\n",
              "      <td>17.02</td>\n",
              "      <td>0</td>\n",
              "      <td>0</td>\n",
              "      <td>3</td>\n",
              "      <td>2</td>\n",
              "    </tr>\n",
              "  </tbody>\n",
              "</table>\n",
              "</div>"
            ],
            "text/plain": [
              "               model   mpg  cyl   disp   hp  drat     wt   qsec  vs  am  gear  \\\n",
              "0          Mazda RX4  21.0    6  160.0  110  3.90  2.620  16.46   0   1     4   \n",
              "1      Mazda RX4 Wag  21.0    6  160.0  110  3.90  2.875  17.02   0   1     4   \n",
              "2         Datsun 710  22.8    4  108.0   93  3.85  2.320  18.61   1   1     4   \n",
              "3     Hornet 4 Drive  21.4    6  258.0  110  3.08  3.215  19.44   1   0     3   \n",
              "4  Hornet Sportabout  18.7    8  360.0  175  3.15  3.440  17.02   0   0     3   \n",
              "\n",
              "   carb  \n",
              "0     4  \n",
              "1     4  \n",
              "2     1  \n",
              "3     1  \n",
              "4     2  "
            ]
          },
          "execution_count": 67,
          "metadata": {},
          "output_type": "execute_result"
        }
      ],
      "source": [
        "## Load the dtaset\n",
        "df = pd.read_csv(\"cars-1 (2).csv\")\n",
        "df.head()"
      ]
    },
    {
      "cell_type": "code",
      "execution_count": null,
      "id": "144b8abe",
      "metadata": {
        "id": "144b8abe",
        "outputId": "a7393bcb-1377-4c36-9211-5cf9e8ae7638"
      },
      "outputs": [
        {
          "data": {
            "text/plain": [
              "(32, 12)"
            ]
          },
          "execution_count": 68,
          "metadata": {},
          "output_type": "execute_result"
        }
      ],
      "source": [
        "df.shape"
      ]
    },
    {
      "cell_type": "code",
      "execution_count": null,
      "id": "92c8c178",
      "metadata": {
        "id": "92c8c178",
        "outputId": "cf4bc09a-6638-4ac5-a126-e836dc60b1cc"
      },
      "outputs": [
        {
          "data": {
            "text/plain": [
              "model    0\n",
              "mpg      0\n",
              "cyl      0\n",
              "disp     0\n",
              "hp       0\n",
              "drat     0\n",
              "wt       0\n",
              "qsec     0\n",
              "vs       0\n",
              "am       0\n",
              "gear     0\n",
              "carb     0\n",
              "dtype: int64"
            ]
          },
          "execution_count": 69,
          "metadata": {},
          "output_type": "execute_result"
        }
      ],
      "source": [
        "df.isna().sum() ## check null values"
      ]
    },
    {
      "cell_type": "markdown",
      "id": "2480488b",
      "metadata": {
        "id": "2480488b"
      },
      "source": [
        "# Tasks To Be Performed:\n",
        "\n",
        "1. Building the K-Means clustering algorithm:\n",
        "    \n",
        "a. Start off by extracting the ‘mpg’, ‘disp’ & ‘hp’ columns from the ‘mtcars’\n",
        "   data.frame. Store the result in ‘car_features’"
      ]
    },
    {
      "cell_type": "code",
      "execution_count": null,
      "id": "179d0666",
      "metadata": {
        "id": "179d0666",
        "outputId": "d4c74457-7caa-423b-dcc6-133237119fa5"
      },
      "outputs": [
        {
          "data": {
            "text/plain": [
              "Index(['model', 'mpg', 'cyl', 'disp', 'hp', 'drat', 'wt', 'qsec', 'vs', 'am',\n",
              "       'gear', 'carb'],\n",
              "      dtype='object')"
            ]
          },
          "execution_count": 70,
          "metadata": {},
          "output_type": "execute_result"
        }
      ],
      "source": [
        "df.columns"
      ]
    },
    {
      "cell_type": "code",
      "execution_count": null,
      "id": "6b980714",
      "metadata": {
        "id": "6b980714"
      },
      "outputs": [],
      "source": [
        "car_features = df[['mpg','disp', 'hp']]"
      ]
    },
    {
      "cell_type": "code",
      "execution_count": null,
      "id": "3a3cbb27",
      "metadata": {
        "id": "3a3cbb27",
        "outputId": "a2cdcade-0e47-4396-c163-66b1972d9fd1"
      },
      "outputs": [
        {
          "data": {
            "text/html": [
              "<div>\n",
              "<style scoped>\n",
              "    .dataframe tbody tr th:only-of-type {\n",
              "        vertical-align: middle;\n",
              "    }\n",
              "\n",
              "    .dataframe tbody tr th {\n",
              "        vertical-align: top;\n",
              "    }\n",
              "\n",
              "    .dataframe thead th {\n",
              "        text-align: right;\n",
              "    }\n",
              "</style>\n",
              "<table border=\"1\" class=\"dataframe\">\n",
              "  <thead>\n",
              "    <tr style=\"text-align: right;\">\n",
              "      <th></th>\n",
              "      <th>mpg</th>\n",
              "      <th>disp</th>\n",
              "      <th>hp</th>\n",
              "    </tr>\n",
              "  </thead>\n",
              "  <tbody>\n",
              "    <tr>\n",
              "      <th>0</th>\n",
              "      <td>21.0</td>\n",
              "      <td>160.0</td>\n",
              "      <td>110</td>\n",
              "    </tr>\n",
              "    <tr>\n",
              "      <th>1</th>\n",
              "      <td>21.0</td>\n",
              "      <td>160.0</td>\n",
              "      <td>110</td>\n",
              "    </tr>\n",
              "    <tr>\n",
              "      <th>2</th>\n",
              "      <td>22.8</td>\n",
              "      <td>108.0</td>\n",
              "      <td>93</td>\n",
              "    </tr>\n",
              "    <tr>\n",
              "      <th>3</th>\n",
              "      <td>21.4</td>\n",
              "      <td>258.0</td>\n",
              "      <td>110</td>\n",
              "    </tr>\n",
              "    <tr>\n",
              "      <th>4</th>\n",
              "      <td>18.7</td>\n",
              "      <td>360.0</td>\n",
              "      <td>175</td>\n",
              "    </tr>\n",
              "  </tbody>\n",
              "</table>\n",
              "</div>"
            ],
            "text/plain": [
              "    mpg   disp   hp\n",
              "0  21.0  160.0  110\n",
              "1  21.0  160.0  110\n",
              "2  22.8  108.0   93\n",
              "3  21.4  258.0  110\n",
              "4  18.7  360.0  175"
            ]
          },
          "execution_count": 72,
          "metadata": {},
          "output_type": "execute_result"
        }
      ],
      "source": [
        "car_features.head()"
      ]
    },
    {
      "cell_type": "code",
      "execution_count": null,
      "id": "c14732de",
      "metadata": {
        "id": "c14732de",
        "outputId": "252352b7-afd1-4e33-8a5f-3c8bc83d2547"
      },
      "outputs": [
        {
          "data": {
            "text/plain": [
              "Index(['mpg', 'disp', 'hp'], dtype='object')"
            ]
          },
          "execution_count": 73,
          "metadata": {},
          "output_type": "execute_result"
        }
      ],
      "source": [
        "cols = car_features.columns\n",
        "cols"
      ]
    },
    {
      "cell_type": "markdown",
      "id": "c8f85a95",
      "metadata": {
        "id": "c8f85a95"
      },
      "source": [
        "b. Build the K-Means algorithm on top of ‘car_features’. Here, the number\n",
        "   of clusters should be 3\n",
        "    \n",
        "c. Bind the clustering vector to ‘car_features’"
      ]
    },
    {
      "cell_type": "code",
      "execution_count": null,
      "id": "7e9cd968",
      "metadata": {
        "id": "7e9cd968"
      },
      "outputs": [],
      "source": [
        "from sklearn.preprocessing import MinMaxScaler\n",
        "scaler =  MinMaxScaler()\n",
        "data = scaler.fit_transform(car_features)"
      ]
    },
    {
      "cell_type": "code",
      "execution_count": null,
      "id": "73345329",
      "metadata": {
        "id": "73345329"
      },
      "outputs": [],
      "source": [
        "data = pd.DataFrame(data,columns=[cols])"
      ]
    },
    {
      "cell_type": "code",
      "execution_count": null,
      "id": "39dfe873",
      "metadata": {
        "id": "39dfe873",
        "outputId": "fecd4625-fd33-491a-b2f5-6443bc0e0437"
      },
      "outputs": [
        {
          "data": {
            "text/html": [
              "<div>\n",
              "<style scoped>\n",
              "    .dataframe tbody tr th:only-of-type {\n",
              "        vertical-align: middle;\n",
              "    }\n",
              "\n",
              "    .dataframe tbody tr th {\n",
              "        vertical-align: top;\n",
              "    }\n",
              "\n",
              "    .dataframe thead tr th {\n",
              "        text-align: left;\n",
              "    }\n",
              "</style>\n",
              "<table border=\"1\" class=\"dataframe\">\n",
              "  <thead>\n",
              "    <tr>\n",
              "      <th></th>\n",
              "      <th>mpg</th>\n",
              "      <th>disp</th>\n",
              "      <th>hp</th>\n",
              "    </tr>\n",
              "  </thead>\n",
              "  <tbody>\n",
              "    <tr>\n",
              "      <th>0</th>\n",
              "      <td>0.451064</td>\n",
              "      <td>0.221751</td>\n",
              "      <td>0.204947</td>\n",
              "    </tr>\n",
              "    <tr>\n",
              "      <th>1</th>\n",
              "      <td>0.451064</td>\n",
              "      <td>0.221751</td>\n",
              "      <td>0.204947</td>\n",
              "    </tr>\n",
              "    <tr>\n",
              "      <th>2</th>\n",
              "      <td>0.527660</td>\n",
              "      <td>0.092043</td>\n",
              "      <td>0.144876</td>\n",
              "    </tr>\n",
              "    <tr>\n",
              "      <th>3</th>\n",
              "      <td>0.468085</td>\n",
              "      <td>0.466201</td>\n",
              "      <td>0.204947</td>\n",
              "    </tr>\n",
              "    <tr>\n",
              "      <th>4</th>\n",
              "      <td>0.353191</td>\n",
              "      <td>0.720629</td>\n",
              "      <td>0.434629</td>\n",
              "    </tr>\n",
              "  </tbody>\n",
              "</table>\n",
              "</div>"
            ],
            "text/plain": [
              "        mpg      disp        hp\n",
              "0  0.451064  0.221751  0.204947\n",
              "1  0.451064  0.221751  0.204947\n",
              "2  0.527660  0.092043  0.144876\n",
              "3  0.468085  0.466201  0.204947\n",
              "4  0.353191  0.720629  0.434629"
            ]
          },
          "execution_count": 34,
          "metadata": {},
          "output_type": "execute_result"
        }
      ],
      "source": [
        "data.head()"
      ]
    },
    {
      "cell_type": "code",
      "execution_count": null,
      "id": "271a6c38",
      "metadata": {
        "id": "271a6c38"
      },
      "outputs": [],
      "source": [
        "from sklearn.cluster import KMeans"
      ]
    },
    {
      "cell_type": "code",
      "execution_count": null,
      "id": "f2fbfb04",
      "metadata": {
        "id": "f2fbfb04"
      },
      "outputs": [],
      "source": [
        "km = KMeans(n_clusters = 3)\n",
        "km_pred = km.fit_predict(data)"
      ]
    },
    {
      "cell_type": "code",
      "execution_count": null,
      "id": "c929ee5a",
      "metadata": {
        "id": "c929ee5a",
        "outputId": "ecb31a19-67a9-4b33-e80a-ab906511d3aa"
      },
      "outputs": [
        {
          "data": {
            "text/plain": [
              "array([0, 0, 0, 0, 1, 0, 1, 0, 0, 0, 0, 1, 1, 1, 1, 1, 1, 2, 2, 2, 0, 1,\n",
              "       1, 1, 1, 2, 2, 2, 1, 0, 1, 0])"
            ]
          },
          "execution_count": 37,
          "metadata": {},
          "output_type": "execute_result"
        }
      ],
      "source": [
        "km_pred"
      ]
    },
    {
      "cell_type": "code",
      "execution_count": null,
      "id": "b44f1185",
      "metadata": {
        "id": "b44f1185",
        "outputId": "02d659bf-1238-4e6c-9b86-d9ea589f6665"
      },
      "outputs": [
        {
          "data": {
            "text/html": [
              "<div>\n",
              "<style scoped>\n",
              "    .dataframe tbody tr th:only-of-type {\n",
              "        vertical-align: middle;\n",
              "    }\n",
              "\n",
              "    .dataframe tbody tr th {\n",
              "        vertical-align: top;\n",
              "    }\n",
              "\n",
              "    .dataframe thead tr th {\n",
              "        text-align: left;\n",
              "    }\n",
              "</style>\n",
              "<table border=\"1\" class=\"dataframe\">\n",
              "  <thead>\n",
              "    <tr>\n",
              "      <th></th>\n",
              "      <th>mpg</th>\n",
              "      <th>disp</th>\n",
              "      <th>hp</th>\n",
              "      <th>cluster</th>\n",
              "    </tr>\n",
              "  </thead>\n",
              "  <tbody>\n",
              "    <tr>\n",
              "      <th>27</th>\n",
              "      <td>0.851064</td>\n",
              "      <td>0.059865</td>\n",
              "      <td>0.215548</td>\n",
              "      <td>2</td>\n",
              "    </tr>\n",
              "    <tr>\n",
              "      <th>28</th>\n",
              "      <td>0.229787</td>\n",
              "      <td>0.698179</td>\n",
              "      <td>0.749117</td>\n",
              "      <td>1</td>\n",
              "    </tr>\n",
              "    <tr>\n",
              "      <th>29</th>\n",
              "      <td>0.395745</td>\n",
              "      <td>0.184335</td>\n",
              "      <td>0.434629</td>\n",
              "      <td>0</td>\n",
              "    </tr>\n",
              "    <tr>\n",
              "      <th>30</th>\n",
              "      <td>0.195745</td>\n",
              "      <td>0.573460</td>\n",
              "      <td>1.000000</td>\n",
              "      <td>1</td>\n",
              "    </tr>\n",
              "    <tr>\n",
              "      <th>31</th>\n",
              "      <td>0.468085</td>\n",
              "      <td>0.124470</td>\n",
              "      <td>0.201413</td>\n",
              "      <td>0</td>\n",
              "    </tr>\n",
              "  </tbody>\n",
              "</table>\n",
              "</div>"
            ],
            "text/plain": [
              "         mpg      disp        hp cluster\n",
              "27  0.851064  0.059865  0.215548       2\n",
              "28  0.229787  0.698179  0.749117       1\n",
              "29  0.395745  0.184335  0.434629       0\n",
              "30  0.195745  0.573460  1.000000       1\n",
              "31  0.468085  0.124470  0.201413       0"
            ]
          },
          "execution_count": 38,
          "metadata": {},
          "output_type": "execute_result"
        }
      ],
      "source": [
        "data['cluster'] = km_pred\n",
        "data.tail(5)                      ## if want to see which data is belong to which cluster"
      ]
    },
    {
      "cell_type": "code",
      "execution_count": null,
      "id": "9db69099",
      "metadata": {
        "id": "9db69099",
        "outputId": "b4cb9bb3-4f53-43c3-c5e1-ced5f618c00a"
      },
      "outputs": [
        {
          "data": {
            "text/plain": [
              "array([[0.44787234, 0.22170949, 0.20259128],\n",
              "       [0.2       , 0.70341731, 0.55552751],\n",
              "       [0.83687943, 0.03878773, 0.08303887]])"
            ]
          },
          "execution_count": 39,
          "metadata": {},
          "output_type": "execute_result"
        }
      ],
      "source": [
        "km.cluster_centers_"
      ]
    },
    {
      "cell_type": "markdown",
      "id": "b8c31b42",
      "metadata": {
        "id": "b8c31b42"
      },
      "source": [
        "d. Extract observations belonging to individual clusters"
      ]
    },
    {
      "cell_type": "code",
      "execution_count": null,
      "id": "a8dd29c5",
      "metadata": {
        "id": "a8dd29c5",
        "outputId": "f47f75bb-803f-4be3-bef2-473612e6e523"
      },
      "outputs": [
        {
          "data": {
            "text/html": [
              "<div>\n",
              "<style scoped>\n",
              "    .dataframe tbody tr th:only-of-type {\n",
              "        vertical-align: middle;\n",
              "    }\n",
              "\n",
              "    .dataframe tbody tr th {\n",
              "        vertical-align: top;\n",
              "    }\n",
              "\n",
              "    .dataframe thead tr th {\n",
              "        text-align: left;\n",
              "    }\n",
              "</style>\n",
              "<table border=\"1\" class=\"dataframe\">\n",
              "  <thead>\n",
              "    <tr>\n",
              "      <th></th>\n",
              "      <th>mpg</th>\n",
              "      <th>disp</th>\n",
              "      <th>hp</th>\n",
              "      <th>cluster</th>\n",
              "    </tr>\n",
              "  </thead>\n",
              "  <tbody>\n",
              "    <tr>\n",
              "      <th>0</th>\n",
              "      <td>0.451064</td>\n",
              "      <td>0.221751</td>\n",
              "      <td>0.204947</td>\n",
              "      <td>0</td>\n",
              "    </tr>\n",
              "    <tr>\n",
              "      <th>1</th>\n",
              "      <td>0.451064</td>\n",
              "      <td>0.221751</td>\n",
              "      <td>0.204947</td>\n",
              "      <td>0</td>\n",
              "    </tr>\n",
              "    <tr>\n",
              "      <th>2</th>\n",
              "      <td>0.527660</td>\n",
              "      <td>0.092043</td>\n",
              "      <td>0.144876</td>\n",
              "      <td>0</td>\n",
              "    </tr>\n",
              "    <tr>\n",
              "      <th>3</th>\n",
              "      <td>0.468085</td>\n",
              "      <td>0.466201</td>\n",
              "      <td>0.204947</td>\n",
              "      <td>0</td>\n",
              "    </tr>\n",
              "    <tr>\n",
              "      <th>5</th>\n",
              "      <td>0.327660</td>\n",
              "      <td>0.383886</td>\n",
              "      <td>0.187279</td>\n",
              "      <td>0</td>\n",
              "    </tr>\n",
              "    <tr>\n",
              "      <th>7</th>\n",
              "      <td>0.595745</td>\n",
              "      <td>0.188576</td>\n",
              "      <td>0.035336</td>\n",
              "      <td>0</td>\n",
              "    </tr>\n",
              "    <tr>\n",
              "      <th>8</th>\n",
              "      <td>0.527660</td>\n",
              "      <td>0.173859</td>\n",
              "      <td>0.151943</td>\n",
              "      <td>0</td>\n",
              "    </tr>\n",
              "    <tr>\n",
              "      <th>9</th>\n",
              "      <td>0.374468</td>\n",
              "      <td>0.240708</td>\n",
              "      <td>0.250883</td>\n",
              "      <td>0</td>\n",
              "    </tr>\n",
              "    <tr>\n",
              "      <th>10</th>\n",
              "      <td>0.314894</td>\n",
              "      <td>0.240708</td>\n",
              "      <td>0.250883</td>\n",
              "      <td>0</td>\n",
              "    </tr>\n",
              "    <tr>\n",
              "      <th>20</th>\n",
              "      <td>0.472340</td>\n",
              "      <td>0.122225</td>\n",
              "      <td>0.159011</td>\n",
              "      <td>0</td>\n",
              "    </tr>\n",
              "    <tr>\n",
              "      <th>29</th>\n",
              "      <td>0.395745</td>\n",
              "      <td>0.184335</td>\n",
              "      <td>0.434629</td>\n",
              "      <td>0</td>\n",
              "    </tr>\n",
              "    <tr>\n",
              "      <th>31</th>\n",
              "      <td>0.468085</td>\n",
              "      <td>0.124470</td>\n",
              "      <td>0.201413</td>\n",
              "      <td>0</td>\n",
              "    </tr>\n",
              "  </tbody>\n",
              "</table>\n",
              "</div>"
            ],
            "text/plain": [
              "         mpg      disp        hp cluster\n",
              "0   0.451064  0.221751  0.204947       0\n",
              "1   0.451064  0.221751  0.204947       0\n",
              "2   0.527660  0.092043  0.144876       0\n",
              "3   0.468085  0.466201  0.204947       0\n",
              "5   0.327660  0.383886  0.187279       0\n",
              "7   0.595745  0.188576  0.035336       0\n",
              "8   0.527660  0.173859  0.151943       0\n",
              "9   0.374468  0.240708  0.250883       0\n",
              "10  0.314894  0.240708  0.250883       0\n",
              "20  0.472340  0.122225  0.159011       0\n",
              "29  0.395745  0.184335  0.434629       0\n",
              "31  0.468085  0.124470  0.201413       0"
            ]
          },
          "execution_count": 40,
          "metadata": {},
          "output_type": "execute_result"
        }
      ],
      "source": [
        "df1 = data[km_pred == 0]\n",
        "df1"
      ]
    },
    {
      "cell_type": "code",
      "execution_count": null,
      "id": "c8dbd874",
      "metadata": {
        "id": "c8dbd874",
        "outputId": "7f69b3f0-f035-499f-f600-1f86b71e62df"
      },
      "outputs": [
        {
          "data": {
            "text/html": [
              "<div>\n",
              "<style scoped>\n",
              "    .dataframe tbody tr th:only-of-type {\n",
              "        vertical-align: middle;\n",
              "    }\n",
              "\n",
              "    .dataframe tbody tr th {\n",
              "        vertical-align: top;\n",
              "    }\n",
              "\n",
              "    .dataframe thead tr th {\n",
              "        text-align: left;\n",
              "    }\n",
              "</style>\n",
              "<table border=\"1\" class=\"dataframe\">\n",
              "  <thead>\n",
              "    <tr>\n",
              "      <th></th>\n",
              "      <th>mpg</th>\n",
              "      <th>disp</th>\n",
              "      <th>hp</th>\n",
              "      <th>cluster</th>\n",
              "    </tr>\n",
              "  </thead>\n",
              "  <tbody>\n",
              "    <tr>\n",
              "      <th>4</th>\n",
              "      <td>0.353191</td>\n",
              "      <td>0.720629</td>\n",
              "      <td>0.434629</td>\n",
              "      <td>1</td>\n",
              "    </tr>\n",
              "    <tr>\n",
              "      <th>6</th>\n",
              "      <td>0.165957</td>\n",
              "      <td>0.720629</td>\n",
              "      <td>0.681979</td>\n",
              "      <td>1</td>\n",
              "    </tr>\n",
              "    <tr>\n",
              "      <th>11</th>\n",
              "      <td>0.255319</td>\n",
              "      <td>0.510601</td>\n",
              "      <td>0.452297</td>\n",
              "      <td>1</td>\n",
              "    </tr>\n",
              "    <tr>\n",
              "      <th>12</th>\n",
              "      <td>0.293617</td>\n",
              "      <td>0.510601</td>\n",
              "      <td>0.452297</td>\n",
              "      <td>1</td>\n",
              "    </tr>\n",
              "    <tr>\n",
              "      <th>13</th>\n",
              "      <td>0.204255</td>\n",
              "      <td>0.510601</td>\n",
              "      <td>0.452297</td>\n",
              "      <td>1</td>\n",
              "    </tr>\n",
              "    <tr>\n",
              "      <th>14</th>\n",
              "      <td>0.000000</td>\n",
              "      <td>1.000000</td>\n",
              "      <td>0.540636</td>\n",
              "      <td>1</td>\n",
              "    </tr>\n",
              "    <tr>\n",
              "      <th>15</th>\n",
              "      <td>0.000000</td>\n",
              "      <td>0.970067</td>\n",
              "      <td>0.575972</td>\n",
              "      <td>1</td>\n",
              "    </tr>\n",
              "    <tr>\n",
              "      <th>16</th>\n",
              "      <td>0.182979</td>\n",
              "      <td>0.920180</td>\n",
              "      <td>0.628975</td>\n",
              "      <td>1</td>\n",
              "    </tr>\n",
              "    <tr>\n",
              "      <th>21</th>\n",
              "      <td>0.217021</td>\n",
              "      <td>0.615864</td>\n",
              "      <td>0.346290</td>\n",
              "      <td>1</td>\n",
              "    </tr>\n",
              "    <tr>\n",
              "      <th>22</th>\n",
              "      <td>0.204255</td>\n",
              "      <td>0.580943</td>\n",
              "      <td>0.346290</td>\n",
              "      <td>1</td>\n",
              "    </tr>\n",
              "    <tr>\n",
              "      <th>23</th>\n",
              "      <td>0.123404</td>\n",
              "      <td>0.695685</td>\n",
              "      <td>0.681979</td>\n",
              "      <td>1</td>\n",
              "    </tr>\n",
              "    <tr>\n",
              "      <th>24</th>\n",
              "      <td>0.374468</td>\n",
              "      <td>0.820404</td>\n",
              "      <td>0.434629</td>\n",
              "      <td>1</td>\n",
              "    </tr>\n",
              "    <tr>\n",
              "      <th>28</th>\n",
              "      <td>0.229787</td>\n",
              "      <td>0.698179</td>\n",
              "      <td>0.749117</td>\n",
              "      <td>1</td>\n",
              "    </tr>\n",
              "    <tr>\n",
              "      <th>30</th>\n",
              "      <td>0.195745</td>\n",
              "      <td>0.573460</td>\n",
              "      <td>1.000000</td>\n",
              "      <td>1</td>\n",
              "    </tr>\n",
              "  </tbody>\n",
              "</table>\n",
              "</div>"
            ],
            "text/plain": [
              "         mpg      disp        hp cluster\n",
              "4   0.353191  0.720629  0.434629       1\n",
              "6   0.165957  0.720629  0.681979       1\n",
              "11  0.255319  0.510601  0.452297       1\n",
              "12  0.293617  0.510601  0.452297       1\n",
              "13  0.204255  0.510601  0.452297       1\n",
              "14  0.000000  1.000000  0.540636       1\n",
              "15  0.000000  0.970067  0.575972       1\n",
              "16  0.182979  0.920180  0.628975       1\n",
              "21  0.217021  0.615864  0.346290       1\n",
              "22  0.204255  0.580943  0.346290       1\n",
              "23  0.123404  0.695685  0.681979       1\n",
              "24  0.374468  0.820404  0.434629       1\n",
              "28  0.229787  0.698179  0.749117       1\n",
              "30  0.195745  0.573460  1.000000       1"
            ]
          },
          "execution_count": 41,
          "metadata": {},
          "output_type": "execute_result"
        }
      ],
      "source": [
        "df2 = data[km_pred == 1]\n",
        "df2"
      ]
    },
    {
      "cell_type": "code",
      "execution_count": null,
      "id": "a45eabb2",
      "metadata": {
        "id": "a45eabb2",
        "outputId": "689428d6-aff7-4122-c06c-a487edd2f041"
      },
      "outputs": [
        {
          "data": {
            "text/html": [
              "<div>\n",
              "<style scoped>\n",
              "    .dataframe tbody tr th:only-of-type {\n",
              "        vertical-align: middle;\n",
              "    }\n",
              "\n",
              "    .dataframe tbody tr th {\n",
              "        vertical-align: top;\n",
              "    }\n",
              "\n",
              "    .dataframe thead tr th {\n",
              "        text-align: left;\n",
              "    }\n",
              "</style>\n",
              "<table border=\"1\" class=\"dataframe\">\n",
              "  <thead>\n",
              "    <tr>\n",
              "      <th></th>\n",
              "      <th>mpg</th>\n",
              "      <th>disp</th>\n",
              "      <th>hp</th>\n",
              "      <th>cluster</th>\n",
              "    </tr>\n",
              "  </thead>\n",
              "  <tbody>\n",
              "    <tr>\n",
              "      <th>17</th>\n",
              "      <td>0.936170</td>\n",
              "      <td>0.018957</td>\n",
              "      <td>0.049470</td>\n",
              "      <td>2</td>\n",
              "    </tr>\n",
              "    <tr>\n",
              "      <th>18</th>\n",
              "      <td>0.851064</td>\n",
              "      <td>0.011474</td>\n",
              "      <td>0.000000</td>\n",
              "      <td>2</td>\n",
              "    </tr>\n",
              "    <tr>\n",
              "      <th>19</th>\n",
              "      <td>1.000000</td>\n",
              "      <td>0.000000</td>\n",
              "      <td>0.045936</td>\n",
              "      <td>2</td>\n",
              "    </tr>\n",
              "    <tr>\n",
              "      <th>25</th>\n",
              "      <td>0.719149</td>\n",
              "      <td>0.019706</td>\n",
              "      <td>0.049470</td>\n",
              "      <td>2</td>\n",
              "    </tr>\n",
              "    <tr>\n",
              "      <th>26</th>\n",
              "      <td>0.663830</td>\n",
              "      <td>0.122724</td>\n",
              "      <td>0.137809</td>\n",
              "      <td>2</td>\n",
              "    </tr>\n",
              "    <tr>\n",
              "      <th>27</th>\n",
              "      <td>0.851064</td>\n",
              "      <td>0.059865</td>\n",
              "      <td>0.215548</td>\n",
              "      <td>2</td>\n",
              "    </tr>\n",
              "  </tbody>\n",
              "</table>\n",
              "</div>"
            ],
            "text/plain": [
              "         mpg      disp        hp cluster\n",
              "17  0.936170  0.018957  0.049470       2\n",
              "18  0.851064  0.011474  0.000000       2\n",
              "19  1.000000  0.000000  0.045936       2\n",
              "25  0.719149  0.019706  0.049470       2\n",
              "26  0.663830  0.122724  0.137809       2\n",
              "27  0.851064  0.059865  0.215548       2"
            ]
          },
          "execution_count": 42,
          "metadata": {},
          "output_type": "execute_result"
        }
      ],
      "source": [
        "df3 = data[km_pred == 2]\n",
        "df3"
      ]
    },
    {
      "cell_type": "code",
      "execution_count": null,
      "id": "7f4d1f02",
      "metadata": {
        "id": "7f4d1f02",
        "outputId": "5c74500e-b101-4cbf-89e5-0162a23b3e7d"
      },
      "outputs": [
        {
          "data": {
            "image/png": "[encoded data removed]",
            "text/plain": [
              "<Figure size 432x288 with 1 Axes>"
            ]
          },
          "metadata": {
            "needs_background": "light"
          },
          "output_type": "display_data"
        }
      ],
      "source": [
        "plt.scatter(df1['disp'],df1['mpg'],c='blue',label = 'Cluster-1')\n",
        "plt.scatter(df2['disp'],df2['mpg'],c='cyan',label = 'Cluster-2')\n",
        "plt.scatter(df3['disp'],df3['mpg'],c='brown',label = 'Cluster-3')\n",
        "plt.legend()\n",
        "plt.show()\n",
        "\n"
      ]
    },
    {
      "cell_type": "markdown",
      "id": "b623c00c",
      "metadata": {
        "id": "b623c00c"
      },
      "source": [
        "2. On the same ‘car_features’dataset build a K-Means algorithm, where the\n",
        "   number of clusters is 5\n",
        "    \n",
        "    a. Bind the clustering vector to ‘car_features’"
      ]
    },
    {
      "cell_type": "code",
      "execution_count": null,
      "id": "d11606e0",
      "metadata": {
        "id": "d11606e0"
      },
      "outputs": [],
      "source": [
        "car_features = df[['mpg','disp', 'hp']]"
      ]
    },
    {
      "cell_type": "code",
      "execution_count": null,
      "id": "48a759d6",
      "metadata": {
        "id": "48a759d6"
      },
      "outputs": [],
      "source": [
        "data1 = pd.DataFrame(data,columns=[cols])"
      ]
    },
    {
      "cell_type": "code",
      "execution_count": null,
      "id": "45a3a189",
      "metadata": {
        "id": "45a3a189",
        "outputId": "4c097809-fa31-41a2-d6df-2bdabf2a543d"
      },
      "outputs": [
        {
          "data": {
            "text/html": [
              "<div>\n",
              "<style scoped>\n",
              "    .dataframe tbody tr th:only-of-type {\n",
              "        vertical-align: middle;\n",
              "    }\n",
              "\n",
              "    .dataframe tbody tr th {\n",
              "        vertical-align: top;\n",
              "    }\n",
              "\n",
              "    .dataframe thead tr th {\n",
              "        text-align: left;\n",
              "    }\n",
              "</style>\n",
              "<table border=\"1\" class=\"dataframe\">\n",
              "  <thead>\n",
              "    <tr>\n",
              "      <th></th>\n",
              "      <th>mpg</th>\n",
              "      <th>disp</th>\n",
              "      <th>hp</th>\n",
              "    </tr>\n",
              "  </thead>\n",
              "  <tbody>\n",
              "    <tr>\n",
              "      <th>0</th>\n",
              "      <td>0.451064</td>\n",
              "      <td>0.221751</td>\n",
              "      <td>0.204947</td>\n",
              "    </tr>\n",
              "    <tr>\n",
              "      <th>1</th>\n",
              "      <td>0.451064</td>\n",
              "      <td>0.221751</td>\n",
              "      <td>0.204947</td>\n",
              "    </tr>\n",
              "    <tr>\n",
              "      <th>2</th>\n",
              "      <td>0.527660</td>\n",
              "      <td>0.092043</td>\n",
              "      <td>0.144876</td>\n",
              "    </tr>\n",
              "    <tr>\n",
              "      <th>3</th>\n",
              "      <td>0.468085</td>\n",
              "      <td>0.466201</td>\n",
              "      <td>0.204947</td>\n",
              "    </tr>\n",
              "    <tr>\n",
              "      <th>4</th>\n",
              "      <td>0.353191</td>\n",
              "      <td>0.720629</td>\n",
              "      <td>0.434629</td>\n",
              "    </tr>\n",
              "  </tbody>\n",
              "</table>\n",
              "</div>"
            ],
            "text/plain": [
              "        mpg      disp        hp\n",
              "0  0.451064  0.221751  0.204947\n",
              "1  0.451064  0.221751  0.204947\n",
              "2  0.527660  0.092043  0.144876\n",
              "3  0.468085  0.466201  0.204947\n",
              "4  0.353191  0.720629  0.434629"
            ]
          },
          "execution_count": 76,
          "metadata": {},
          "output_type": "execute_result"
        }
      ],
      "source": [
        "data1.head()    # after applying MinMax Scaler to normalize dataset"
      ]
    },
    {
      "cell_type": "code",
      "execution_count": null,
      "id": "b298c5b3",
      "metadata": {
        "id": "b298c5b3"
      },
      "outputs": [],
      "source": [
        "km1 = KMeans(n_clusters = 5)\n",
        "km1_pred = km1.fit_predict(data1)"
      ]
    },
    {
      "cell_type": "code",
      "execution_count": null,
      "id": "4938daa6",
      "metadata": {
        "id": "4938daa6",
        "outputId": "a895ba72-a2ed-40a4-c4ce-ee8e72b337d2"
      },
      "outputs": [
        {
          "data": {
            "text/plain": [
              "array([3, 3, 3, 3, 1, 3, 4, 3, 3, 3, 3, 1, 1, 1, 2, 2, 2, 0, 0, 0, 3, 1,\n",
              "       1, 4, 1, 0, 0, 0, 4, 3, 4, 3])"
            ]
          },
          "execution_count": 78,
          "metadata": {},
          "output_type": "execute_result"
        }
      ],
      "source": [
        "km1_pred"
      ]
    },
    {
      "cell_type": "code",
      "execution_count": null,
      "id": "804287e0",
      "metadata": {
        "id": "804287e0",
        "outputId": "a0d6995a-0009-4519-8ad5-342d5e027998"
      },
      "outputs": [
        {
          "data": {
            "text/plain": [
              "array([[0.83687943, 0.03878773, 0.08303887],\n",
              "       [0.27173252, 0.60994904, 0.41696113],\n",
              "       [0.06099291, 0.96341565, 0.58186101],\n",
              "       [0.44787234, 0.22170949, 0.20259128],\n",
              "       [0.1787234 , 0.67198803, 0.77826855]])"
            ]
          },
          "execution_count": 79,
          "metadata": {},
          "output_type": "execute_result"
        }
      ],
      "source": [
        "km1.cluster_centers_"
      ]
    },
    {
      "cell_type": "code",
      "execution_count": null,
      "id": "3f422691",
      "metadata": {
        "id": "3f422691"
      },
      "outputs": [],
      "source": [
        "data1['CLUSTERS'] = km1_pred"
      ]
    },
    {
      "cell_type": "code",
      "execution_count": null,
      "id": "806a2485",
      "metadata": {
        "id": "806a2485",
        "outputId": "c88cab9a-50cc-4851-c4d8-8bb93689dde3"
      },
      "outputs": [
        {
          "data": {
            "text/html": [
              "<div>\n",
              "<style scoped>\n",
              "    .dataframe tbody tr th:only-of-type {\n",
              "        vertical-align: middle;\n",
              "    }\n",
              "\n",
              "    .dataframe tbody tr th {\n",
              "        vertical-align: top;\n",
              "    }\n",
              "\n",
              "    .dataframe thead tr th {\n",
              "        text-align: left;\n",
              "    }\n",
              "</style>\n",
              "<table border=\"1\" class=\"dataframe\">\n",
              "  <thead>\n",
              "    <tr>\n",
              "      <th></th>\n",
              "      <th>mpg</th>\n",
              "      <th>disp</th>\n",
              "      <th>hp</th>\n",
              "      <th>CLUSTERS</th>\n",
              "    </tr>\n",
              "  </thead>\n",
              "  <tbody>\n",
              "    <tr>\n",
              "      <th>0</th>\n",
              "      <td>0.451064</td>\n",
              "      <td>0.221751</td>\n",
              "      <td>0.204947</td>\n",
              "      <td>3</td>\n",
              "    </tr>\n",
              "    <tr>\n",
              "      <th>1</th>\n",
              "      <td>0.451064</td>\n",
              "      <td>0.221751</td>\n",
              "      <td>0.204947</td>\n",
              "      <td>3</td>\n",
              "    </tr>\n",
              "    <tr>\n",
              "      <th>2</th>\n",
              "      <td>0.527660</td>\n",
              "      <td>0.092043</td>\n",
              "      <td>0.144876</td>\n",
              "      <td>3</td>\n",
              "    </tr>\n",
              "    <tr>\n",
              "      <th>3</th>\n",
              "      <td>0.468085</td>\n",
              "      <td>0.466201</td>\n",
              "      <td>0.204947</td>\n",
              "      <td>3</td>\n",
              "    </tr>\n",
              "    <tr>\n",
              "      <th>4</th>\n",
              "      <td>0.353191</td>\n",
              "      <td>0.720629</td>\n",
              "      <td>0.434629</td>\n",
              "      <td>1</td>\n",
              "    </tr>\n",
              "  </tbody>\n",
              "</table>\n",
              "</div>"
            ],
            "text/plain": [
              "        mpg      disp        hp CLUSTERS\n",
              "0  0.451064  0.221751  0.204947        3\n",
              "1  0.451064  0.221751  0.204947        3\n",
              "2  0.527660  0.092043  0.144876        3\n",
              "3  0.468085  0.466201  0.204947        3\n",
              "4  0.353191  0.720629  0.434629        1"
            ]
          },
          "execution_count": 81,
          "metadata": {},
          "output_type": "execute_result"
        }
      ],
      "source": [
        "data1.head()"
      ]
    },
    {
      "cell_type": "markdown",
      "id": "e25a7053",
      "metadata": {
        "id": "e25a7053"
      },
      "source": [
        "b. Extract observations belonging to individual clusters"
      ]
    },
    {
      "cell_type": "code",
      "execution_count": null,
      "id": "581de3be",
      "metadata": {
        "id": "581de3be",
        "outputId": "7034b40b-5cdd-4423-ffb4-2333c7be531b"
      },
      "outputs": [
        {
          "data": {
            "text/html": [
              "<div>\n",
              "<style scoped>\n",
              "    .dataframe tbody tr th:only-of-type {\n",
              "        vertical-align: middle;\n",
              "    }\n",
              "\n",
              "    .dataframe tbody tr th {\n",
              "        vertical-align: top;\n",
              "    }\n",
              "\n",
              "    .dataframe thead tr th {\n",
              "        text-align: left;\n",
              "    }\n",
              "</style>\n",
              "<table border=\"1\" class=\"dataframe\">\n",
              "  <thead>\n",
              "    <tr>\n",
              "      <th></th>\n",
              "      <th>mpg</th>\n",
              "      <th>disp</th>\n",
              "      <th>hp</th>\n",
              "      <th>CLUSTERS</th>\n",
              "    </tr>\n",
              "  </thead>\n",
              "  <tbody>\n",
              "    <tr>\n",
              "      <th>17</th>\n",
              "      <td>0.936170</td>\n",
              "      <td>0.018957</td>\n",
              "      <td>0.049470</td>\n",
              "      <td>0</td>\n",
              "    </tr>\n",
              "    <tr>\n",
              "      <th>18</th>\n",
              "      <td>0.851064</td>\n",
              "      <td>0.011474</td>\n",
              "      <td>0.000000</td>\n",
              "      <td>0</td>\n",
              "    </tr>\n",
              "    <tr>\n",
              "      <th>19</th>\n",
              "      <td>1.000000</td>\n",
              "      <td>0.000000</td>\n",
              "      <td>0.045936</td>\n",
              "      <td>0</td>\n",
              "    </tr>\n",
              "    <tr>\n",
              "      <th>25</th>\n",
              "      <td>0.719149</td>\n",
              "      <td>0.019706</td>\n",
              "      <td>0.049470</td>\n",
              "      <td>0</td>\n",
              "    </tr>\n",
              "    <tr>\n",
              "      <th>26</th>\n",
              "      <td>0.663830</td>\n",
              "      <td>0.122724</td>\n",
              "      <td>0.137809</td>\n",
              "      <td>0</td>\n",
              "    </tr>\n",
              "    <tr>\n",
              "      <th>27</th>\n",
              "      <td>0.851064</td>\n",
              "      <td>0.059865</td>\n",
              "      <td>0.215548</td>\n",
              "      <td>0</td>\n",
              "    </tr>\n",
              "  </tbody>\n",
              "</table>\n",
              "</div>"
            ],
            "text/plain": [
              "         mpg      disp        hp CLUSTERS\n",
              "17  0.936170  0.018957  0.049470        0\n",
              "18  0.851064  0.011474  0.000000        0\n",
              "19  1.000000  0.000000  0.045936        0\n",
              "25  0.719149  0.019706  0.049470        0\n",
              "26  0.663830  0.122724  0.137809        0\n",
              "27  0.851064  0.059865  0.215548        0"
            ]
          },
          "execution_count": 83,
          "metadata": {},
          "output_type": "execute_result"
        }
      ],
      "source": [
        "cluster1 = data1[km1_pred == 0]\n",
        "cluster1"
      ]
    },
    {
      "cell_type": "code",
      "execution_count": null,
      "id": "d32d29ec",
      "metadata": {
        "id": "d32d29ec",
        "outputId": "178f963a-4097-456c-cf6e-a87e4a6d90ad"
      },
      "outputs": [
        {
          "data": {
            "text/html": [
              "<div>\n",
              "<style scoped>\n",
              "    .dataframe tbody tr th:only-of-type {\n",
              "        vertical-align: middle;\n",
              "    }\n",
              "\n",
              "    .dataframe tbody tr th {\n",
              "        vertical-align: top;\n",
              "    }\n",
              "\n",
              "    .dataframe thead tr th {\n",
              "        text-align: left;\n",
              "    }\n",
              "</style>\n",
              "<table border=\"1\" class=\"dataframe\">\n",
              "  <thead>\n",
              "    <tr>\n",
              "      <th></th>\n",
              "      <th>mpg</th>\n",
              "      <th>disp</th>\n",
              "      <th>hp</th>\n",
              "      <th>CLUSTERS</th>\n",
              "    </tr>\n",
              "  </thead>\n",
              "  <tbody>\n",
              "    <tr>\n",
              "      <th>4</th>\n",
              "      <td>0.353191</td>\n",
              "      <td>0.720629</td>\n",
              "      <td>0.434629</td>\n",
              "      <td>1</td>\n",
              "    </tr>\n",
              "    <tr>\n",
              "      <th>11</th>\n",
              "      <td>0.255319</td>\n",
              "      <td>0.510601</td>\n",
              "      <td>0.452297</td>\n",
              "      <td>1</td>\n",
              "    </tr>\n",
              "    <tr>\n",
              "      <th>12</th>\n",
              "      <td>0.293617</td>\n",
              "      <td>0.510601</td>\n",
              "      <td>0.452297</td>\n",
              "      <td>1</td>\n",
              "    </tr>\n",
              "    <tr>\n",
              "      <th>13</th>\n",
              "      <td>0.204255</td>\n",
              "      <td>0.510601</td>\n",
              "      <td>0.452297</td>\n",
              "      <td>1</td>\n",
              "    </tr>\n",
              "    <tr>\n",
              "      <th>21</th>\n",
              "      <td>0.217021</td>\n",
              "      <td>0.615864</td>\n",
              "      <td>0.346290</td>\n",
              "      <td>1</td>\n",
              "    </tr>\n",
              "    <tr>\n",
              "      <th>22</th>\n",
              "      <td>0.204255</td>\n",
              "      <td>0.580943</td>\n",
              "      <td>0.346290</td>\n",
              "      <td>1</td>\n",
              "    </tr>\n",
              "    <tr>\n",
              "      <th>24</th>\n",
              "      <td>0.374468</td>\n",
              "      <td>0.820404</td>\n",
              "      <td>0.434629</td>\n",
              "      <td>1</td>\n",
              "    </tr>\n",
              "  </tbody>\n",
              "</table>\n",
              "</div>"
            ],
            "text/plain": [
              "         mpg      disp        hp CLUSTERS\n",
              "4   0.353191  0.720629  0.434629        1\n",
              "11  0.255319  0.510601  0.452297        1\n",
              "12  0.293617  0.510601  0.452297        1\n",
              "13  0.204255  0.510601  0.452297        1\n",
              "21  0.217021  0.615864  0.346290        1\n",
              "22  0.204255  0.580943  0.346290        1\n",
              "24  0.374468  0.820404  0.434629        1"
            ]
          },
          "execution_count": 85,
          "metadata": {},
          "output_type": "execute_result"
        }
      ],
      "source": [
        "cluster2 = data1[km1_pred == 1]\n",
        "cluster2"
      ]
    },
    {
      "cell_type": "code",
      "execution_count": null,
      "id": "b3d6da93",
      "metadata": {
        "id": "b3d6da93",
        "outputId": "46447994-db6c-440f-da5f-91f8888dd87e"
      },
      "outputs": [
        {
          "data": {
            "text/html": [
              "<div>\n",
              "<style scoped>\n",
              "    .dataframe tbody tr th:only-of-type {\n",
              "        vertical-align: middle;\n",
              "    }\n",
              "\n",
              "    .dataframe tbody tr th {\n",
              "        vertical-align: top;\n",
              "    }\n",
              "\n",
              "    .dataframe thead tr th {\n",
              "        text-align: left;\n",
              "    }\n",
              "</style>\n",
              "<table border=\"1\" class=\"dataframe\">\n",
              "  <thead>\n",
              "    <tr>\n",
              "      <th></th>\n",
              "      <th>mpg</th>\n",
              "      <th>disp</th>\n",
              "      <th>hp</th>\n",
              "      <th>CLUSTERS</th>\n",
              "    </tr>\n",
              "  </thead>\n",
              "  <tbody>\n",
              "    <tr>\n",
              "      <th>14</th>\n",
              "      <td>0.000000</td>\n",
              "      <td>1.000000</td>\n",
              "      <td>0.540636</td>\n",
              "      <td>2</td>\n",
              "    </tr>\n",
              "    <tr>\n",
              "      <th>15</th>\n",
              "      <td>0.000000</td>\n",
              "      <td>0.970067</td>\n",
              "      <td>0.575972</td>\n",
              "      <td>2</td>\n",
              "    </tr>\n",
              "    <tr>\n",
              "      <th>16</th>\n",
              "      <td>0.182979</td>\n",
              "      <td>0.920180</td>\n",
              "      <td>0.628975</td>\n",
              "      <td>2</td>\n",
              "    </tr>\n",
              "  </tbody>\n",
              "</table>\n",
              "</div>"
            ],
            "text/plain": [
              "         mpg      disp        hp CLUSTERS\n",
              "14  0.000000  1.000000  0.540636        2\n",
              "15  0.000000  0.970067  0.575972        2\n",
              "16  0.182979  0.920180  0.628975        2"
            ]
          },
          "execution_count": 86,
          "metadata": {},
          "output_type": "execute_result"
        }
      ],
      "source": [
        "cluster3 = data1[km1_pred == 2]\n",
        "cluster3"
      ]
    },
    {
      "cell_type": "code",
      "execution_count": null,
      "id": "94706f7c",
      "metadata": {
        "id": "94706f7c",
        "outputId": "cb00eaef-4fe8-4116-fb14-440d8f31d412"
      },
      "outputs": [
        {
          "data": {
            "text/html": [
              "<div>\n",
              "<style scoped>\n",
              "    .dataframe tbody tr th:only-of-type {\n",
              "        vertical-align: middle;\n",
              "    }\n",
              "\n",
              "    .dataframe tbody tr th {\n",
              "        vertical-align: top;\n",
              "    }\n",
              "\n",
              "    .dataframe thead tr th {\n",
              "        text-align: left;\n",
              "    }\n",
              "</style>\n",
              "<table border=\"1\" class=\"dataframe\">\n",
              "  <thead>\n",
              "    <tr>\n",
              "      <th></th>\n",
              "      <th>mpg</th>\n",
              "      <th>disp</th>\n",
              "      <th>hp</th>\n",
              "      <th>CLUSTERS</th>\n",
              "    </tr>\n",
              "  </thead>\n",
              "  <tbody>\n",
              "    <tr>\n",
              "      <th>0</th>\n",
              "      <td>0.451064</td>\n",
              "      <td>0.221751</td>\n",
              "      <td>0.204947</td>\n",
              "      <td>3</td>\n",
              "    </tr>\n",
              "    <tr>\n",
              "      <th>1</th>\n",
              "      <td>0.451064</td>\n",
              "      <td>0.221751</td>\n",
              "      <td>0.204947</td>\n",
              "      <td>3</td>\n",
              "    </tr>\n",
              "    <tr>\n",
              "      <th>2</th>\n",
              "      <td>0.527660</td>\n",
              "      <td>0.092043</td>\n",
              "      <td>0.144876</td>\n",
              "      <td>3</td>\n",
              "    </tr>\n",
              "    <tr>\n",
              "      <th>3</th>\n",
              "      <td>0.468085</td>\n",
              "      <td>0.466201</td>\n",
              "      <td>0.204947</td>\n",
              "      <td>3</td>\n",
              "    </tr>\n",
              "    <tr>\n",
              "      <th>5</th>\n",
              "      <td>0.327660</td>\n",
              "      <td>0.383886</td>\n",
              "      <td>0.187279</td>\n",
              "      <td>3</td>\n",
              "    </tr>\n",
              "    <tr>\n",
              "      <th>7</th>\n",
              "      <td>0.595745</td>\n",
              "      <td>0.188576</td>\n",
              "      <td>0.035336</td>\n",
              "      <td>3</td>\n",
              "    </tr>\n",
              "    <tr>\n",
              "      <th>8</th>\n",
              "      <td>0.527660</td>\n",
              "      <td>0.173859</td>\n",
              "      <td>0.151943</td>\n",
              "      <td>3</td>\n",
              "    </tr>\n",
              "    <tr>\n",
              "      <th>9</th>\n",
              "      <td>0.374468</td>\n",
              "      <td>0.240708</td>\n",
              "      <td>0.250883</td>\n",
              "      <td>3</td>\n",
              "    </tr>\n",
              "    <tr>\n",
              "      <th>10</th>\n",
              "      <td>0.314894</td>\n",
              "      <td>0.240708</td>\n",
              "      <td>0.250883</td>\n",
              "      <td>3</td>\n",
              "    </tr>\n",
              "    <tr>\n",
              "      <th>20</th>\n",
              "      <td>0.472340</td>\n",
              "      <td>0.122225</td>\n",
              "      <td>0.159011</td>\n",
              "      <td>3</td>\n",
              "    </tr>\n",
              "    <tr>\n",
              "      <th>29</th>\n",
              "      <td>0.395745</td>\n",
              "      <td>0.184335</td>\n",
              "      <td>0.434629</td>\n",
              "      <td>3</td>\n",
              "    </tr>\n",
              "    <tr>\n",
              "      <th>31</th>\n",
              "      <td>0.468085</td>\n",
              "      <td>0.124470</td>\n",
              "      <td>0.201413</td>\n",
              "      <td>3</td>\n",
              "    </tr>\n",
              "  </tbody>\n",
              "</table>\n",
              "</div>"
            ],
            "text/plain": [
              "         mpg      disp        hp CLUSTERS\n",
              "0   0.451064  0.221751  0.204947        3\n",
              "1   0.451064  0.221751  0.204947        3\n",
              "2   0.527660  0.092043  0.144876        3\n",
              "3   0.468085  0.466201  0.204947        3\n",
              "5   0.327660  0.383886  0.187279        3\n",
              "7   0.595745  0.188576  0.035336        3\n",
              "8   0.527660  0.173859  0.151943        3\n",
              "9   0.374468  0.240708  0.250883        3\n",
              "10  0.314894  0.240708  0.250883        3\n",
              "20  0.472340  0.122225  0.159011        3\n",
              "29  0.395745  0.184335  0.434629        3\n",
              "31  0.468085  0.124470  0.201413        3"
            ]
          },
          "execution_count": 87,
          "metadata": {},
          "output_type": "execute_result"
        }
      ],
      "source": [
        "cluster4 = data1[km1_pred == 3]\n",
        "cluster4"
      ]
    },
    {
      "cell_type": "code",
      "execution_count": null,
      "id": "1aaf43e2",
      "metadata": {
        "id": "1aaf43e2",
        "outputId": "416359b1-b060-4a06-812a-2cce57e7d4d6"
      },
      "outputs": [
        {
          "data": {
            "text/html": [
              "<div>\n",
              "<style scoped>\n",
              "    .dataframe tbody tr th:only-of-type {\n",
              "        vertical-align: middle;\n",
              "    }\n",
              "\n",
              "    .dataframe tbody tr th {\n",
              "        vertical-align: top;\n",
              "    }\n",
              "\n",
              "    .dataframe thead tr th {\n",
              "        text-align: left;\n",
              "    }\n",
              "</style>\n",
              "<table border=\"1\" class=\"dataframe\">\n",
              "  <thead>\n",
              "    <tr>\n",
              "      <th></th>\n",
              "      <th>mpg</th>\n",
              "      <th>disp</th>\n",
              "      <th>hp</th>\n",
              "      <th>CLUSTERS</th>\n",
              "    </tr>\n",
              "  </thead>\n",
              "  <tbody>\n",
              "    <tr>\n",
              "      <th>6</th>\n",
              "      <td>0.165957</td>\n",
              "      <td>0.720629</td>\n",
              "      <td>0.681979</td>\n",
              "      <td>4</td>\n",
              "    </tr>\n",
              "    <tr>\n",
              "      <th>23</th>\n",
              "      <td>0.123404</td>\n",
              "      <td>0.695685</td>\n",
              "      <td>0.681979</td>\n",
              "      <td>4</td>\n",
              "    </tr>\n",
              "    <tr>\n",
              "      <th>28</th>\n",
              "      <td>0.229787</td>\n",
              "      <td>0.698179</td>\n",
              "      <td>0.749117</td>\n",
              "      <td>4</td>\n",
              "    </tr>\n",
              "    <tr>\n",
              "      <th>30</th>\n",
              "      <td>0.195745</td>\n",
              "      <td>0.573460</td>\n",
              "      <td>1.000000</td>\n",
              "      <td>4</td>\n",
              "    </tr>\n",
              "  </tbody>\n",
              "</table>\n",
              "</div>"
            ],
            "text/plain": [
              "         mpg      disp        hp CLUSTERS\n",
              "6   0.165957  0.720629  0.681979        4\n",
              "23  0.123404  0.695685  0.681979        4\n",
              "28  0.229787  0.698179  0.749117        4\n",
              "30  0.195745  0.573460  1.000000        4"
            ]
          },
          "execution_count": 88,
          "metadata": {},
          "output_type": "execute_result"
        }
      ],
      "source": [
        "cluster5 = data1[km1_pred == 4]\n",
        "cluster5"
      ]
    },
    {
      "cell_type": "code",
      "execution_count": null,
      "id": "3b7629fb",
      "metadata": {
        "id": "3b7629fb",
        "outputId": "926cd02d-e263-4283-e793-773e938e2ccc"
      },
      "outputs": [
        {
          "data": {
            "image/png": "[encoded data removed]",
            "text/plain": [
              "<Figure size 432x288 with 1 Axes>"
            ]
          },
          "metadata": {
            "needs_background": "light"
          },
          "output_type": "display_data"
        }
      ],
      "source": [
        "plt.scatter(cluster1['hp'],cluster1['mpg'],c='red',label = 'Cluster-1')\n",
        "plt.scatter(cluster2['hp'],cluster2['mpg'],c='cyan',label = 'Cluster-2')\n",
        "plt.scatter(cluster3['hp'],cluster3['mpg'],c='blue',label = 'Cluster-3')\n",
        "plt.scatter(cluster4['hp'],cluster4['mpg'],c='grey',label = 'Cluster-4')\n",
        "plt.scatter(cluster5['hp'],cluster5['mpg'],c='green',label = 'Cluster-5')\n",
        "plt.legend()\n",
        "plt.show()"
      ]
    },
    {
      "cell_type": "markdown",
      "id": "74293152",
      "metadata": {
        "id": "74293152"
      },
      "source": [
        "# Module 9: Agglomerative Clustering Assignment\n"
      ]
    },
    {
      "cell_type": "markdown",
      "id": "4c6499b0",
      "metadata": {
        "id": "4c6499b0"
      },
      "source": [
        "# Problem Statement:\n",
        "    \n",
        "You work in XYZ Company as a Python Developer. The company officials want\n",
        "you to write code for an Agglomerative Clustering Problem.\n"
      ]
    },
    {
      "cell_type": "markdown",
      "id": "d73e8031",
      "metadata": {
        "id": "d73e8031"
      },
      "source": [
        "# Tasks To Be Performed:\n",
        "    \n",
        "1. Load iris data from load_iris function from sklearn.datasets package\n",
        "\n",
        "2. From the dataset extract the data property\n",
        "\n"
      ]
    },
    {
      "cell_type": "code",
      "execution_count": null,
      "id": "cb404f20",
      "metadata": {
        "id": "cb404f20"
      },
      "outputs": [],
      "source": [
        "from sklearn.datasets import load_iris"
      ]
    },
    {
      "cell_type": "code",
      "execution_count": null,
      "id": "6baa1e44",
      "metadata": {
        "id": "6baa1e44",
        "outputId": "c889e6e8-09e5-4fc3-c162-a4d5b4d59266"
      },
      "outputs": [
        {
          "name": "stdout",
          "output_type": "stream",
          "text": [
            ".. _iris_dataset:\n",
            "\n",
            "Iris plants dataset\n",
            "--------------------\n",
            "\n",
            "**Data Set Characteristics:**\n",
            "\n",
            "    :Number of Instances: 150 (50 in each of three classes)\n",
            "    :Number of Attributes: 4 numeric, predictive attributes and the class\n",
            "    :Attribute Information:\n",
            "        - sepal length in cm\n",
            "        - sepal width in cm\n",
            "        - petal length in cm\n",
            "        - petal width in cm\n",
            "        - class:\n",
            "                - Iris-Setosa\n",
            "                - Iris-Versicolour\n",
            "                - Iris-Virginica\n",
            "                \n",
            "    :Summary Statistics:\n",
            "\n",
            "    ============== ==== ==== ======= ===== ====================\n",
            "                    Min  Max   Mean    SD   Class Correlation\n",
            "    ============== ==== ==== ======= ===== ====================\n",
            "    sepal length:   4.3  7.9   5.84   0.83    0.7826\n",
            "    sepal width:    2.0  4.4   3.05   0.43   -0.4194\n",
            "    petal length:   1.0  6.9   3.76   1.76    0.9490  (high!)\n",
            "    petal width:    0.1  2.5   1.20   0.76    0.9565  (high!)\n",
            "    ============== ==== ==== ======= ===== ====================\n",
            "\n",
            "    :Missing Attribute Values: None\n",
            "    :Class Distribution: 33.3% for each of 3 classes.\n",
            "    :Creator: R.A. Fisher\n",
            "    :Donor: Michael Marshall (MARSHALL%PLU@io.arc.nasa.gov)\n",
            "    :Date: July, 1988\n",
            "\n",
            "The famous Iris database, first used by Sir R.A. Fisher. The dataset is taken\n",
            "from Fisher's paper. Note that it's the same as in R, but not as in the UCI\n",
            "Machine Learning Repository, which has two wrong data points.\n",
            "\n",
            "This is perhaps the best known database to be found in the\n",
            "pattern recognition literature.  Fisher's paper is a classic in the field and\n",
            "is referenced frequently to this day.  (See Duda & Hart, for example.)  The\n",
            "data set contains 3 classes of 50 instances each, where each class refers to a\n",
            "type of iris plant.  One class is linearly separable from the other 2; the\n",
            "latter are NOT linearly separable from each other.\n",
            "\n",
            ".. topic:: References\n",
            "\n",
            "   - Fisher, R.A. \"The use of multiple measurements in taxonomic problems\"\n",
            "     Annual Eugenics, 7, Part II, 179-188 (1936); also in \"Contributions to\n",
            "     Mathematical Statistics\" (John Wiley, NY, 1950).\n",
            "   - Duda, R.O., & Hart, P.E. (1973) Pattern Classification and Scene Analysis.\n",
            "     (Q327.D83) John Wiley & Sons.  ISBN 0-471-22361-1.  See page 218.\n",
            "   - Dasarathy, B.V. (1980) \"Nosing Around the Neighborhood: A New System\n",
            "     Structure and Classification Rule for Recognition in Partially Exposed\n",
            "     Environments\".  IEEE Transactions on Pattern Analysis and Machine\n",
            "     Intelligence, Vol. PAMI-2, No. 1, 67-71.\n",
            "   - Gates, G.W. (1972) \"The Reduced Nearest Neighbor Rule\".  IEEE Transactions\n",
            "     on Information Theory, May 1972, 431-433.\n",
            "   - See also: 1988 MLC Proceedings, 54-64.  Cheeseman et al\"s AUTOCLASS II\n",
            "     conceptual clustering system finds 3 classes in the data.\n",
            "   - Many, many more ...\n"
          ]
        }
      ],
      "source": [
        "iris = load_iris()\n",
        "print(data.DESCR)"
      ]
    },
    {
      "cell_type": "code",
      "execution_count": null,
      "id": "ec5fd5b5",
      "metadata": {
        "id": "ec5fd5b5",
        "outputId": "c78db8a1-65ea-4b54-b790-6497da4edfee"
      },
      "outputs": [
        {
          "data": {
            "text/html": [
              "<div>\n",
              "<style scoped>\n",
              "    .dataframe tbody tr th:only-of-type {\n",
              "        vertical-align: middle;\n",
              "    }\n",
              "\n",
              "    .dataframe tbody tr th {\n",
              "        vertical-align: top;\n",
              "    }\n",
              "\n",
              "    .dataframe thead th {\n",
              "        text-align: right;\n",
              "    }\n",
              "</style>\n",
              "<table border=\"1\" class=\"dataframe\">\n",
              "  <thead>\n",
              "    <tr style=\"text-align: right;\">\n",
              "      <th></th>\n",
              "      <th>sepal length (cm)</th>\n",
              "      <th>sepal width (cm)</th>\n",
              "      <th>petal length (cm)</th>\n",
              "      <th>petal width (cm)</th>\n",
              "      <th>class</th>\n",
              "    </tr>\n",
              "  </thead>\n",
              "  <tbody>\n",
              "    <tr>\n",
              "      <th>73</th>\n",
              "      <td>6.1</td>\n",
              "      <td>2.8</td>\n",
              "      <td>4.7</td>\n",
              "      <td>1.2</td>\n",
              "      <td>1</td>\n",
              "    </tr>\n",
              "    <tr>\n",
              "      <th>30</th>\n",
              "      <td>4.8</td>\n",
              "      <td>3.1</td>\n",
              "      <td>1.6</td>\n",
              "      <td>0.2</td>\n",
              "      <td>0</td>\n",
              "    </tr>\n",
              "    <tr>\n",
              "      <th>98</th>\n",
              "      <td>5.1</td>\n",
              "      <td>2.5</td>\n",
              "      <td>3.0</td>\n",
              "      <td>1.1</td>\n",
              "      <td>1</td>\n",
              "    </tr>\n",
              "    <tr>\n",
              "      <th>29</th>\n",
              "      <td>4.7</td>\n",
              "      <td>3.2</td>\n",
              "      <td>1.6</td>\n",
              "      <td>0.2</td>\n",
              "      <td>0</td>\n",
              "    </tr>\n",
              "    <tr>\n",
              "      <th>134</th>\n",
              "      <td>6.1</td>\n",
              "      <td>2.6</td>\n",
              "      <td>5.6</td>\n",
              "      <td>1.4</td>\n",
              "      <td>2</td>\n",
              "    </tr>\n",
              "  </tbody>\n",
              "</table>\n",
              "</div>"
            ],
            "text/plain": [
              "     sepal length (cm)  sepal width (cm)  petal length (cm)  petal width (cm)  \\\n",
              "73                 6.1               2.8                4.7               1.2   \n",
              "30                 4.8               3.1                1.6               0.2   \n",
              "98                 5.1               2.5                3.0               1.1   \n",
              "29                 4.7               3.2                1.6               0.2   \n",
              "134                6.1               2.6                5.6               1.4   \n",
              "\n",
              "     class  \n",
              "73       1  \n",
              "30       0  \n",
              "98       1  \n",
              "29       0  \n",
              "134      2  "
            ]
          },
          "execution_count": 33,
          "metadata": {},
          "output_type": "execute_result"
        }
      ],
      "source": [
        "df = pd.DataFrame(iris.data,columns = iris.feature_names)\n",
        "df['class'] = iris.target\n",
        "df.sample(5)"
      ]
    },
    {
      "cell_type": "markdown",
      "id": "b772f6e9",
      "metadata": {
        "id": "b772f6e9"
      },
      "source": [
        "3. Train an Agglomerative Clustering model based on the data\n",
        "\n",
        "4. Plot dendrogram to visualize the clustering linkage"
      ]
    },
    {
      "cell_type": "code",
      "execution_count": null,
      "id": "7f7c7e2d",
      "metadata": {
        "id": "7f7c7e2d"
      },
      "outputs": [],
      "source": [
        "x = iris.data"
      ]
    },
    {
      "cell_type": "code",
      "execution_count": null,
      "id": "d78f532f",
      "metadata": {
        "id": "d78f532f"
      },
      "outputs": [],
      "source": [
        "from sklearn.cluster import AgglomerativeClustering"
      ]
    },
    {
      "cell_type": "code",
      "execution_count": null,
      "id": "27a4eeab",
      "metadata": {
        "id": "27a4eeab",
        "outputId": "74ee9d18-14c2-4d33-f0f2-13a258b271b2"
      },
      "outputs": [
        {
          "data": {
            "text/plain": [
              "AgglomerativeClustering()"
            ]
          },
          "execution_count": 49,
          "metadata": {},
          "output_type": "execute_result"
        }
      ],
      "source": [
        "model = AgglomerativeClustering()\n",
        "model.fit(x)"
      ]
    },
    {
      "cell_type": "code",
      "execution_count": null,
      "id": "e6c9f192",
      "metadata": {
        "id": "e6c9f192"
      },
      "outputs": [],
      "source": [
        "from scipy.cluster.hierarchy import linkage,dendrogram"
      ]
    },
    {
      "cell_type": "code",
      "execution_count": null,
      "id": "ea904616",
      "metadata": {
        "id": "ea904616",
        "outputId": "1266337e-a2b3-460e-8baa-0f2752db7a67"
      },
      "outputs": [
        {
          "data": {
            "image/png": "[encoded data removed]",
            "text/plain": [
              "<Figure size 1440x864 with 1 Axes>"
            ]
          },
          "metadata": {
            "needs_background": "light"
          },
          "output_type": "display_data"
        }
      ],
      "source": [
        "plt.figure(figsize = (20,12))\n",
        "z = linkage(x,'ward')\n",
        "dendrogram(z,truncate_mode = 'level')\n",
        "plt.show()"
      ]
    },
    {
      "cell_type": "markdown",
      "id": "3b54dc86",
      "metadata": {
        "id": "3b54dc86"
      },
      "source": [
        "# Module 9: Dendrogram Assignment\n"
      ]
    },
    {
      "cell_type": "markdown",
      "id": "49c85300",
      "metadata": {
        "id": "49c85300"
      },
      "source": [
        "# Problem Statement:\n",
        "    \n",
        "You work in XYZ Company as a Python developer. The company officials want\n",
        "you to write code for an Agglomerative Clustering Problem.\n",
        "\n",
        "Data:\n",
        "[[5,3],\n",
        "[10,15],\n",
        "[15,12],\n",
        "[24,10],\n",
        "[30,30],\n",
        "[85,70],\n",
        "[71,80],\n",
        "[60,78],\n",
        "[70,55],\n",
        "[80,91]]"
      ]
    },
    {
      "cell_type": "markdown",
      "id": "98c8c251",
      "metadata": {
        "id": "98c8c251"
      },
      "source": [
        "# Tasks To Be Performed:\n",
        "    \n",
        "1. Using the np.array function create an np array from the data given above\n",
        "\n",
        "2. Generate a scatter plot for the data\n",
        "\n",
        "3. Plot dendrogram to visualize the clustering linkage"
      ]
    },
    {
      "cell_type": "code",
      "execution_count": null,
      "id": "b9107ba6",
      "metadata": {
        "id": "b9107ba6"
      },
      "outputs": [],
      "source": [
        "Data = [[5,3],\n",
        "[10,15],\n",
        "[15,12],\n",
        "[24,10],\n",
        "[30,30],\n",
        "[85,70],\n",
        "[71,80],\n",
        "[60,78],\n",
        "[70,55],\n",
        "[80,91],]"
      ]
    },
    {
      "cell_type": "code",
      "execution_count": null,
      "id": "3b8882d1",
      "metadata": {
        "id": "3b8882d1",
        "outputId": "3499f4ab-d5f3-4111-feb1-e90289d94af1"
      },
      "outputs": [
        {
          "data": {
            "text/plain": [
              "array([[ 5,  3],\n",
              "       [10, 15],\n",
              "       [15, 12],\n",
              "       [24, 10],\n",
              "       [30, 30],\n",
              "       [85, 70],\n",
              "       [71, 80],\n",
              "       [60, 78],\n",
              "       [70, 55],\n",
              "       [80, 91]])"
            ]
          },
          "execution_count": 3,
          "metadata": {},
          "output_type": "execute_result"
        }
      ],
      "source": [
        "df = np.array(Data)\n",
        "df"
      ]
    },
    {
      "cell_type": "code",
      "execution_count": null,
      "id": "4e201a33",
      "metadata": {
        "id": "4e201a33",
        "outputId": "112cfce7-9809-4bb5-de48-a22fe951c4b3"
      },
      "outputs": [
        {
          "data": {
            "text/plain": [
              "array([ 5, 10, 15, 24, 30, 85, 71, 60, 70, 80])"
            ]
          },
          "execution_count": 4,
          "metadata": {},
          "output_type": "execute_result"
        }
      ],
      "source": [
        "x= df[:,0]\n",
        "x"
      ]
    },
    {
      "cell_type": "code",
      "execution_count": null,
      "id": "5181d6fc",
      "metadata": {
        "id": "5181d6fc",
        "outputId": "b93a50d3-2673-4f7c-aad1-41ceed920a43"
      },
      "outputs": [
        {
          "data": {
            "text/plain": [
              "array([ 3, 15, 12, 10, 30, 70, 80, 78, 55, 91])"
            ]
          },
          "execution_count": 5,
          "metadata": {},
          "output_type": "execute_result"
        }
      ],
      "source": [
        "y = df[:,1]\n",
        "y"
      ]
    },
    {
      "cell_type": "code",
      "execution_count": null,
      "id": "1b688fd2",
      "metadata": {
        "id": "1b688fd2",
        "outputId": "fe07b915-ff6f-4210-8070-781c99b55353"
      },
      "outputs": [
        {
          "data": {
            "image/png": "[encoded data removed]",
            "text/plain": [
              "<Figure size 432x288 with 1 Axes>"
            ]
          },
          "metadata": {
            "needs_background": "light"
          },
          "output_type": "display_data"
        }
      ],
      "source": [
        "plt.scatter(x,y,color='purple',marker='D')\n",
        "plt.show()"
      ]
    },
    {
      "cell_type": "code",
      "execution_count": null,
      "id": "960b30e4",
      "metadata": {
        "id": "960b30e4"
      },
      "outputs": [],
      "source": [
        "from scipy.cluster.hierarchy import linkage,dendrogram"
      ]
    },
    {
      "cell_type": "code",
      "execution_count": null,
      "id": "a8483a26",
      "metadata": {
        "id": "a8483a26",
        "outputId": "9283c600-637c-4e9f-fdeb-5152cf4c4db8"
      },
      "outputs": [
        {
          "data": {
            "image/png": "[encoded data removed]",
            "text/plain": [
              "<Figure size 864x576 with 1 Axes>"
            ]
          },
          "metadata": {
            "needs_background": "light"
          },
          "output_type": "display_data"
        }
      ],
      "source": [
        "plt.figure(figsize = (12,8))\n",
        "z = linkage(Data,'ward')\n",
        "dendrogram(z,truncate_mode = 'level')\n",
        "plt.show()"
      ]
    },
    {
      "cell_type": "markdown",
      "id": "23811fc9",
      "metadata": {
        "id": "23811fc9"
      },
      "source": [
        "# Module 9: Recommender System Case Study\n"
      ]
    },
    {
      "cell_type": "markdown",
      "id": "59eb989b",
      "metadata": {
        "id": "59eb989b"
      },
      "source": [
        "# Problem Statement:\n",
        "    \n",
        "Sam’s next exam would be to build a “Recommender System” using the Singular\n",
        "Value Decomposition (SVD) algorithm. Questions would be asked on the basis of\n",
        "what you’ve learnt in the respective module.\n"
      ]
    },
    {
      "cell_type": "markdown",
      "id": "db5bbfae",
      "metadata": {
        "id": "db5bbfae"
      },
      "source": [
        "# Tasks To Be Performed:\n",
        "    \n",
        "1. Implementing User-Based Recommender System using SVD (Singular\n",
        "Value Decomposition) method:\n",
        "    \n",
        "a. Load the ‘ratings’ and ‘movies’ datasets which is a part of ‘MovieLense’\n"
      ]
    },
    {
      "cell_type": "code",
      "execution_count": null,
      "id": "50bb66dd",
      "metadata": {
        "id": "50bb66dd",
        "outputId": "73402d8f-d286-499f-eefc-ea207b12bc5d"
      },
      "outputs": [
        {
          "data": {
            "text/html": [
              "<div>\n",
              "<style scoped>\n",
              "    .dataframe tbody tr th:only-of-type {\n",
              "        vertical-align: middle;\n",
              "    }\n",
              "\n",
              "    .dataframe tbody tr th {\n",
              "        vertical-align: top;\n",
              "    }\n",
              "\n",
              "    .dataframe thead th {\n",
              "        text-align: right;\n",
              "    }\n",
              "</style>\n",
              "<table border=\"1\" class=\"dataframe\">\n",
              "  <thead>\n",
              "    <tr style=\"text-align: right;\">\n",
              "      <th></th>\n",
              "      <th>movieId</th>\n",
              "      <th>title</th>\n",
              "      <th>genres</th>\n",
              "    </tr>\n",
              "  </thead>\n",
              "  <tbody>\n",
              "    <tr>\n",
              "      <th>0</th>\n",
              "      <td>1</td>\n",
              "      <td>Toy Story (1995)</td>\n",
              "      <td>Adventure|Animation|Children|Comedy|Fantasy</td>\n",
              "    </tr>\n",
              "    <tr>\n",
              "      <th>1</th>\n",
              "      <td>2</td>\n",
              "      <td>Jumanji (1995)</td>\n",
              "      <td>Adventure|Children|Fantasy</td>\n",
              "    </tr>\n",
              "    <tr>\n",
              "      <th>2</th>\n",
              "      <td>3</td>\n",
              "      <td>Grumpier Old Men (1995)</td>\n",
              "      <td>Comedy|Romance</td>\n",
              "    </tr>\n",
              "    <tr>\n",
              "      <th>3</th>\n",
              "      <td>4</td>\n",
              "      <td>Waiting to Exhale (1995)</td>\n",
              "      <td>Comedy|Drama|Romance</td>\n",
              "    </tr>\n",
              "    <tr>\n",
              "      <th>4</th>\n",
              "      <td>5</td>\n",
              "      <td>Father of the Bride Part II (1995)</td>\n",
              "      <td>Comedy</td>\n",
              "    </tr>\n",
              "  </tbody>\n",
              "</table>\n",
              "</div>"
            ],
            "text/plain": [
              "   movieId                               title  \\\n",
              "0        1                    Toy Story (1995)   \n",
              "1        2                      Jumanji (1995)   \n",
              "2        3             Grumpier Old Men (1995)   \n",
              "3        4            Waiting to Exhale (1995)   \n",
              "4        5  Father of the Bride Part II (1995)   \n",
              "\n",
              "                                        genres  \n",
              "0  Adventure|Animation|Children|Comedy|Fantasy  \n",
              "1                   Adventure|Children|Fantasy  \n",
              "2                               Comedy|Romance  \n",
              "3                         Comedy|Drama|Romance  \n",
              "4                                       Comedy  "
            ]
          },
          "execution_count": 9,
          "metadata": {},
          "output_type": "execute_result"
        }
      ],
      "source": [
        "movies = pd.read_csv('movies.csv')\n",
        "movies.head()"
      ]
    },
    {
      "cell_type": "code",
      "execution_count": null,
      "id": "cbb27677",
      "metadata": {
        "id": "cbb27677",
        "outputId": "3cb0bed2-50aa-417f-caba-38606c290709"
      },
      "outputs": [
        {
          "data": {
            "text/html": [
              "<div>\n",
              "<style scoped>\n",
              "    .dataframe tbody tr th:only-of-type {\n",
              "        vertical-align: middle;\n",
              "    }\n",
              "\n",
              "    .dataframe tbody tr th {\n",
              "        vertical-align: top;\n",
              "    }\n",
              "\n",
              "    .dataframe thead th {\n",
              "        text-align: right;\n",
              "    }\n",
              "</style>\n",
              "<table border=\"1\" class=\"dataframe\">\n",
              "  <thead>\n",
              "    <tr style=\"text-align: right;\">\n",
              "      <th></th>\n",
              "      <th>userId</th>\n",
              "      <th>movieId</th>\n",
              "      <th>rating</th>\n",
              "      <th>timestamp</th>\n",
              "    </tr>\n",
              "  </thead>\n",
              "  <tbody>\n",
              "    <tr>\n",
              "      <th>1048570</th>\n",
              "      <td>7120</td>\n",
              "      <td>168</td>\n",
              "      <td>5.0</td>\n",
              "      <td>1175543061</td>\n",
              "    </tr>\n",
              "    <tr>\n",
              "      <th>1048571</th>\n",
              "      <td>7120</td>\n",
              "      <td>253</td>\n",
              "      <td>4.0</td>\n",
              "      <td>1175542225</td>\n",
              "    </tr>\n",
              "    <tr>\n",
              "      <th>1048572</th>\n",
              "      <td>7120</td>\n",
              "      <td>260</td>\n",
              "      <td>5.0</td>\n",
              "      <td>1175542035</td>\n",
              "    </tr>\n",
              "    <tr>\n",
              "      <th>1048573</th>\n",
              "      <td>7120</td>\n",
              "      <td>261</td>\n",
              "      <td>4.0</td>\n",
              "      <td>1175543376</td>\n",
              "    </tr>\n",
              "    <tr>\n",
              "      <th>1048574</th>\n",
              "      <td>7120</td>\n",
              "      <td>266</td>\n",
              "      <td>3.5</td>\n",
              "      <td>1175542454</td>\n",
              "    </tr>\n",
              "  </tbody>\n",
              "</table>\n",
              "</div>"
            ],
            "text/plain": [
              "         userId  movieId  rating   timestamp\n",
              "1048570    7120      168     5.0  1175543061\n",
              "1048571    7120      253     4.0  1175542225\n",
              "1048572    7120      260     5.0  1175542035\n",
              "1048573    7120      261     4.0  1175543376\n",
              "1048574    7120      266     3.5  1175542454"
            ]
          },
          "execution_count": 10,
          "metadata": {},
          "output_type": "execute_result"
        }
      ],
      "source": [
        "ratings = pd.read_csv('ratings.csv')\n",
        "ratings.tail()"
      ]
    },
    {
      "cell_type": "code",
      "execution_count": null,
      "id": "9bf30368",
      "metadata": {
        "id": "9bf30368",
        "outputId": "d2e23d6e-7934-4d5f-c72d-de55bd99bd2a"
      },
      "outputs": [
        {
          "name": "stdout",
          "output_type": "stream",
          "text": [
            "(27278, 3)\n",
            "(1048575, 4)\n"
          ]
        }
      ],
      "source": [
        "print(movies.shape)\n",
        "print(ratings.shape)"
      ]
    },
    {
      "cell_type": "markdown",
      "id": "3d8a937e",
      "metadata": {
        "id": "3d8a937e"
      },
      "source": [
        "b. Find the unique number of users and movies in the ‘ratings’ dataset\n"
      ]
    },
    {
      "cell_type": "code",
      "execution_count": null,
      "id": "e7902ac9",
      "metadata": {
        "id": "e7902ac9"
      },
      "outputs": [],
      "source": [
        "n_users= ratings['userId'].nunique()\n",
        "n_movies= ratings['movieId'].nunique()"
      ]
    },
    {
      "cell_type": "code",
      "execution_count": null,
      "id": "7999c017",
      "metadata": {
        "id": "7999c017",
        "outputId": "f9981fec-115c-4534-dd08-f8d5267520b5"
      },
      "outputs": [
        {
          "name": "stdout",
          "output_type": "stream",
          "text": [
            "Number of unique Users =  7120\n",
            "Number of unique Movies =  14026\n"
          ]
        }
      ],
      "source": [
        "print('Number of unique Users = ', n_users )\n",
        "print('Number of unique Movies = ',n_movies)"
      ]
    },
    {
      "cell_type": "markdown",
      "id": "e5bab573",
      "metadata": {
        "id": "e5bab573"
      },
      "source": [
        "c. Create a rating matrix for the ‘ratings’ dataset and store it in ‘Ratings’\n"
      ]
    },
    {
      "cell_type": "code",
      "execution_count": null,
      "id": "de9aa0c9",
      "metadata": {
        "id": "de9aa0c9"
      },
      "outputs": [],
      "source": [
        "Ratings = ratings.pivot(index ='userId',columns='movieId',values = 'rating').fillna(0)"
      ]
    },
    {
      "cell_type": "code",
      "execution_count": null,
      "id": "5b2d4729",
      "metadata": {
        "id": "5b2d4729",
        "outputId": "aa98e1b7-ace2-4e0b-b12a-d2da72228b1f"
      },
      "outputs": [
        {
          "data": {
            "text/html": [
              "<div>\n",
              "<style scoped>\n",
              "    .dataframe tbody tr th:only-of-type {\n",
              "        vertical-align: middle;\n",
              "    }\n",
              "\n",
              "    .dataframe tbody tr th {\n",
              "        vertical-align: top;\n",
              "    }\n",
              "\n",
              "    .dataframe thead th {\n",
              "        text-align: right;\n",
              "    }\n",
              "</style>\n",
              "<table border=\"1\" class=\"dataframe\">\n",
              "  <thead>\n",
              "    <tr style=\"text-align: right;\">\n",
              "      <th>movieId</th>\n",
              "      <th>1</th>\n",
              "      <th>2</th>\n",
              "      <th>3</th>\n",
              "      <th>4</th>\n",
              "      <th>5</th>\n",
              "      <th>6</th>\n",
              "      <th>7</th>\n",
              "      <th>8</th>\n",
              "      <th>9</th>\n",
              "      <th>10</th>\n",
              "      <th>...</th>\n",
              "      <th>129350</th>\n",
              "      <th>129354</th>\n",
              "      <th>129428</th>\n",
              "      <th>129707</th>\n",
              "      <th>130052</th>\n",
              "      <th>130073</th>\n",
              "      <th>130219</th>\n",
              "      <th>130462</th>\n",
              "      <th>130490</th>\n",
              "      <th>130642</th>\n",
              "    </tr>\n",
              "    <tr>\n",
              "      <th>userId</th>\n",
              "      <th></th>\n",
              "      <th></th>\n",
              "      <th></th>\n",
              "      <th></th>\n",
              "      <th></th>\n",
              "      <th></th>\n",
              "      <th></th>\n",
              "      <th></th>\n",
              "      <th></th>\n",
              "      <th></th>\n",
              "      <th></th>\n",
              "      <th></th>\n",
              "      <th></th>\n",
              "      <th></th>\n",
              "      <th></th>\n",
              "      <th></th>\n",
              "      <th></th>\n",
              "      <th></th>\n",
              "      <th></th>\n",
              "      <th></th>\n",
              "      <th></th>\n",
              "    </tr>\n",
              "  </thead>\n",
              "  <tbody>\n",
              "    <tr>\n",
              "      <th>1</th>\n",
              "      <td>0.0</td>\n",
              "      <td>3.5</td>\n",
              "      <td>0.0</td>\n",
              "      <td>0.0</td>\n",
              "      <td>0.0</td>\n",
              "      <td>0.0</td>\n",
              "      <td>0.0</td>\n",
              "      <td>0.0</td>\n",
              "      <td>0.0</td>\n",
              "      <td>0.0</td>\n",
              "      <td>...</td>\n",
              "      <td>0.0</td>\n",
              "      <td>0.0</td>\n",
              "      <td>0.0</td>\n",
              "      <td>0.0</td>\n",
              "      <td>0.0</td>\n",
              "      <td>0.0</td>\n",
              "      <td>0.0</td>\n",
              "      <td>0.0</td>\n",
              "      <td>0.0</td>\n",
              "      <td>0.0</td>\n",
              "    </tr>\n",
              "    <tr>\n",
              "      <th>2</th>\n",
              "      <td>0.0</td>\n",
              "      <td>0.0</td>\n",
              "      <td>4.0</td>\n",
              "      <td>0.0</td>\n",
              "      <td>0.0</td>\n",
              "      <td>0.0</td>\n",
              "      <td>0.0</td>\n",
              "      <td>0.0</td>\n",
              "      <td>0.0</td>\n",
              "      <td>0.0</td>\n",
              "      <td>...</td>\n",
              "      <td>0.0</td>\n",
              "      <td>0.0</td>\n",
              "      <td>0.0</td>\n",
              "      <td>0.0</td>\n",
              "      <td>0.0</td>\n",
              "      <td>0.0</td>\n",
              "      <td>0.0</td>\n",
              "      <td>0.0</td>\n",
              "      <td>0.0</td>\n",
              "      <td>0.0</td>\n",
              "    </tr>\n",
              "    <tr>\n",
              "      <th>3</th>\n",
              "      <td>4.0</td>\n",
              "      <td>0.0</td>\n",
              "      <td>0.0</td>\n",
              "      <td>0.0</td>\n",
              "      <td>0.0</td>\n",
              "      <td>0.0</td>\n",
              "      <td>0.0</td>\n",
              "      <td>0.0</td>\n",
              "      <td>0.0</td>\n",
              "      <td>0.0</td>\n",
              "      <td>...</td>\n",
              "      <td>0.0</td>\n",
              "      <td>0.0</td>\n",
              "      <td>0.0</td>\n",
              "      <td>0.0</td>\n",
              "      <td>0.0</td>\n",
              "      <td>0.0</td>\n",
              "      <td>0.0</td>\n",
              "      <td>0.0</td>\n",
              "      <td>0.0</td>\n",
              "      <td>0.0</td>\n",
              "    </tr>\n",
              "    <tr>\n",
              "      <th>4</th>\n",
              "      <td>0.0</td>\n",
              "      <td>0.0</td>\n",
              "      <td>0.0</td>\n",
              "      <td>0.0</td>\n",
              "      <td>0.0</td>\n",
              "      <td>3.0</td>\n",
              "      <td>0.0</td>\n",
              "      <td>0.0</td>\n",
              "      <td>0.0</td>\n",
              "      <td>4.0</td>\n",
              "      <td>...</td>\n",
              "      <td>0.0</td>\n",
              "      <td>0.0</td>\n",
              "      <td>0.0</td>\n",
              "      <td>0.0</td>\n",
              "      <td>0.0</td>\n",
              "      <td>0.0</td>\n",
              "      <td>0.0</td>\n",
              "      <td>0.0</td>\n",
              "      <td>0.0</td>\n",
              "      <td>0.0</td>\n",
              "    </tr>\n",
              "    <tr>\n",
              "      <th>5</th>\n",
              "      <td>0.0</td>\n",
              "      <td>3.0</td>\n",
              "      <td>0.0</td>\n",
              "      <td>0.0</td>\n",
              "      <td>0.0</td>\n",
              "      <td>0.0</td>\n",
              "      <td>0.0</td>\n",
              "      <td>0.0</td>\n",
              "      <td>0.0</td>\n",
              "      <td>0.0</td>\n",
              "      <td>...</td>\n",
              "      <td>0.0</td>\n",
              "      <td>0.0</td>\n",
              "      <td>0.0</td>\n",
              "      <td>0.0</td>\n",
              "      <td>0.0</td>\n",
              "      <td>0.0</td>\n",
              "      <td>0.0</td>\n",
              "      <td>0.0</td>\n",
              "      <td>0.0</td>\n",
              "      <td>0.0</td>\n",
              "    </tr>\n",
              "  </tbody>\n",
              "</table>\n",
              "<p>5 rows × 14026 columns</p>\n",
              "</div>"
            ],
            "text/plain": [
              "movieId  1       2       3       4       5       6       7       8       \\\n",
              "userId                                                                    \n",
              "1           0.0     3.5     0.0     0.0     0.0     0.0     0.0     0.0   \n",
              "2           0.0     0.0     4.0     0.0     0.0     0.0     0.0     0.0   \n",
              "3           4.0     0.0     0.0     0.0     0.0     0.0     0.0     0.0   \n",
              "4           0.0     0.0     0.0     0.0     0.0     3.0     0.0     0.0   \n",
              "5           0.0     3.0     0.0     0.0     0.0     0.0     0.0     0.0   \n",
              "\n",
              "movieId  9       10      ...  129350  129354  129428  129707  130052  130073  \\\n",
              "userId                   ...                                                   \n",
              "1           0.0     0.0  ...     0.0     0.0     0.0     0.0     0.0     0.0   \n",
              "2           0.0     0.0  ...     0.0     0.0     0.0     0.0     0.0     0.0   \n",
              "3           0.0     0.0  ...     0.0     0.0     0.0     0.0     0.0     0.0   \n",
              "4           0.0     4.0  ...     0.0     0.0     0.0     0.0     0.0     0.0   \n",
              "5           0.0     0.0  ...     0.0     0.0     0.0     0.0     0.0     0.0   \n",
              "\n",
              "movieId  130219  130462  130490  130642  \n",
              "userId                                   \n",
              "1           0.0     0.0     0.0     0.0  \n",
              "2           0.0     0.0     0.0     0.0  \n",
              "3           0.0     0.0     0.0     0.0  \n",
              "4           0.0     0.0     0.0     0.0  \n",
              "5           0.0     0.0     0.0     0.0  \n",
              "\n",
              "[5 rows x 14026 columns]"
            ]
          },
          "execution_count": 17,
          "metadata": {},
          "output_type": "execute_result"
        }
      ],
      "source": [
        "Ratings.head()"
      ]
    },
    {
      "cell_type": "markdown",
      "id": "426bda09",
      "metadata": {
        "id": "426bda09"
      },
      "source": [
        "d. Load the ‘ratings’ dataset as SVD’s Dataset object and compute 3-fold\n",
        "  cross-validation using the SVD object"
      ]
    },
    {
      "cell_type": "code",
      "execution_count": null,
      "id": "f33c810a",
      "metadata": {
        "id": "f33c810a",
        "outputId": "f058f92f-3b2c-4c65-b8bc-4b2946994c08"
      },
      "outputs": [
        {
          "name": "stdout",
          "output_type": "stream",
          "text": [
            "Collecting package metadata (current_repodata.json): ...working... done\n",
            "Solving environment: ...working... done\n",
            "\n",
            "## Package Plan ##\n",
            "\n",
            "  environment location: C:\\Users\\shaneela\\Anaconda3\n",
            "\n",
            "  added / updated specs:\n",
            "    - scikit-surprise\n",
            "\n",
            "\n",
            "The following packages will be downloaded:\n",
            "\n",
            "    package                    |            build\n",
            "    ---------------------------|-----------------\n",
            "    conda-4.14.0               |   py39hcbf5309_0         1.0 MB  conda-forge\n",
            "    ------------------------------------------------------------\n",
            "                                           Total:         1.0 MB\n",
            "\n",
            "The following packages will be UPDATED:\n",
            "\n",
            "  conda                               4.12.0-py39hcbf5309_0 --> 4.14.0-py39hcbf5309_0\n",
            "\n",
            "\n",
            "\n",
            "Downloading and Extracting Packages\n",
            "\n",
            "conda-4.14.0         | 1.0 MB    |            |   0% \n",
            "conda-4.14.0         | 1.0 MB    | 1          |   2% \n",
            "conda-4.14.0         | 1.0 MB    | #2         |  12% \n",
            "conda-4.14.0         | 1.0 MB    | ##4        |  25% \n",
            "conda-4.14.0         | 1.0 MB    | ###3       |  34% \n",
            "conda-4.14.0         | 1.0 MB    | ####2      |  43% \n",
            "conda-4.14.0         | 1.0 MB    | #####5     |  55% \n",
            "conda-4.14.0         | 1.0 MB    | #######    |  70% \n",
            "conda-4.14.0         | 1.0 MB    | ########4  |  84% \n",
            "conda-4.14.0         | 1.0 MB    | ########## | 100% \n",
            "conda-4.14.0         | 1.0 MB    | ########## | 100% \n",
            "Preparing transaction: ...working... done\n",
            "Verifying transaction: ...working... done\n",
            "Executing transaction: ...working... done\n",
            "\n",
            "Note: you may need to restart the kernel to use updated packages.\n"
          ]
        }
      ],
      "source": [
        "conda install -c conda-forge scikit-surprise"
      ]
    },
    {
      "cell_type": "code",
      "execution_count": null,
      "id": "94e4de59",
      "metadata": {
        "id": "94e4de59"
      },
      "outputs": [],
      "source": [
        "from surprise import Reader, Dataset, SVD\n",
        "from surprise.model_selection import cross_validate"
      ]
    },
    {
      "cell_type": "code",
      "execution_count": null,
      "id": "58079110",
      "metadata": {
        "id": "58079110",
        "outputId": "f1242c2f-0b6e-4787-8014-c1e0615bbb40"
      },
      "outputs": [
        {
          "name": "stdout",
          "output_type": "stream",
          "text": [
            "Evaluating RMSE, MAE of algorithm SVD on 3 split(s).\n",
            "\n",
            "                  Fold 1  Fold 2  Fold 3  Mean    Std     \n",
            "RMSE (testset)    0.8453  0.8467  0.8446  0.8455  0.0009  \n",
            "MAE (testset)     0.6478  0.6484  0.6469  0.6477  0.0006  \n",
            "Fit time          94.00   92.04   91.09   92.38   1.21    \n",
            "Test time         6.94    6.82    6.54    6.77    0.17    \n"
          ]
        },
        {
          "data": {
            "text/plain": [
              "{'test_rmse': array([0.84531048, 0.84674282, 0.84457241]),\n",
              " 'test_mae': array([0.64782675, 0.64838799, 0.64688552]),\n",
              " 'fit_time': (94.00470113754272, 92.04145359992981, 91.09467387199402),\n",
              " 'test_time': (6.940535545349121, 6.82287859916687, 6.5440757274627686)}"
            ]
          },
          "execution_count": 35,
          "metadata": {},
          "output_type": "execute_result"
        }
      ],
      "source": [
        "reader = Reader()     # Load Reader library\n",
        "\n",
        "data = Dataset.load_from_df(ratings[['userId', 'movieId', 'rating']], reader)  # Load ratings dataset with Dataset library\n",
        "\n",
        "svd = SVD()        # Use the SVD algorithm.\n",
        "\n",
        "cross_validate(svd, data, measures=['RMSE', 'MAE'], cv=3, verbose=True)    # Compute the RMSE of the SVD algorithm."
      ]
    },
    {
      "cell_type": "markdown",
      "id": "e45f37b6",
      "metadata": {
        "id": "e45f37b6"
      },
      "source": [
        "e. Find all the movies rated as 5 stars by user id ‘5’ and store it in\n",
        "‘ratings_1’ data frame"
      ]
    },
    {
      "cell_type": "code",
      "execution_count": null,
      "id": "802cc830",
      "metadata": {
        "id": "802cc830",
        "outputId": "f061ff6f-df89-4c08-cf67-10ed0177e11d"
      },
      "outputs": [
        {
          "data": {
            "text/plain": [
              "movieId\n",
              "11                     Dracula: Dead and Loving It (1995)\n",
              "62      Don't Be a Menace to South Central While Drink...\n",
              "141                                          Gospa (1995)\n",
              "150                                 Addiction, The (1995)\n",
              "260                              Ladybird Ladybird (1994)\n",
              "318     Strawberry and Chocolate (Fresa y chocolate) (...\n",
              "364                                       Maverick (1994)\n",
              "368                                  Reality Bites (1994)\n",
              "377                       When a Man Loves a Woman (1994)\n",
              "380                                    Bad Company (1995)\n",
              "440                    Even Cowgirls Get the Blues (1993)\n",
              "454                   Geronimo: An American Legend (1993)\n",
              "457                                        Go Fish (1994)\n",
              "500                                      No Escape (1994)\n",
              "508                            Puppet Masters, The (1994)\n",
              "531                                     Short Cuts (1993)\n",
              "588                Snow White and the Seven Dwarfs (1937)\n",
              "589                           Beauty and the Beast (1991)\n",
              "590                                      Pinocchio (1940)\n",
              "594                                 Love and a .45 (1994)\n",
              "595             Wooden Man's Bride, The (Yan shen) (1994)\n",
              "671                  Coup de torchon (Clean Slate) (1981)\n",
              "720                              Original Gangstas (1996)\n",
              "736                       Man from Down Under, The (1943)\n",
              "780     My Life and Times With Antonin Artaud (En comp...\n",
              "832                               Big Squeeze, The (1996)\n",
              "1028                      Long Kiss Goodnight, The (1996)\n",
              "1035                             Shadow Conspiracy (1997)\n",
              "1036                                          Jude (1996)\n",
              "1079                                       Top Gun (1986)\n",
              "1080                               American Strays (1996)\n",
              "1097                   People vs. Larry Flynt, The (1996)\n",
              "1136                                 Love in Bloom (1935)\n",
              "1196                             Full Metal Jacket (1987)\n",
              "1198                                       Henry V (1989)\n",
              "1210      Seventh Seal, The (Sjunde inseglet, Det) (1957)\n",
              "1291                       Alien³ (a.k.a. Alien 3) (1992)\n",
              "1393                                    Turbulence (1997)\n",
              "Name: title, dtype: object"
            ]
          },
          "execution_count": 47,
          "metadata": {},
          "output_type": "execute_result"
        }
      ],
      "source": [
        "ratings_1 = ratings[(ratings['userId'] == 5) & (ratings['rating'] == 5)]\n",
        "ratings_1 = ratings_1.set_index('movieId')\n",
        "ratings_1 = ratings_1.join(movies)['title']\n",
        "ratings_1"
      ]
    },
    {
      "cell_type": "markdown",
      "id": "00888e20",
      "metadata": {
        "id": "00888e20"
      },
      "source": [
        "f. Create a shallow copy of the ‘movies’ dataset and store the result in\n",
        "‘user_5’"
      ]
    },
    {
      "cell_type": "code",
      "execution_count": null,
      "id": "8b406902",
      "metadata": {
        "id": "8b406902",
        "outputId": "1cccd86b-92f6-43a6-a236-85ab84688396"
      },
      "outputs": [
        {
          "data": {
            "text/html": [
              "<div>\n",
              "<style scoped>\n",
              "    .dataframe tbody tr th:only-of-type {\n",
              "        vertical-align: middle;\n",
              "    }\n",
              "\n",
              "    .dataframe tbody tr th {\n",
              "        vertical-align: top;\n",
              "    }\n",
              "\n",
              "    .dataframe thead th {\n",
              "        text-align: right;\n",
              "    }\n",
              "</style>\n",
              "<table border=\"1\" class=\"dataframe\">\n",
              "  <thead>\n",
              "    <tr style=\"text-align: right;\">\n",
              "      <th></th>\n",
              "      <th>movieId</th>\n",
              "      <th>title</th>\n",
              "      <th>genres</th>\n",
              "    </tr>\n",
              "  </thead>\n",
              "  <tbody>\n",
              "    <tr>\n",
              "      <th>0</th>\n",
              "      <td>1</td>\n",
              "      <td>Toy Story (1995)</td>\n",
              "      <td>Adventure|Animation|Children|Comedy|Fantasy</td>\n",
              "    </tr>\n",
              "    <tr>\n",
              "      <th>1</th>\n",
              "      <td>2</td>\n",
              "      <td>Jumanji (1995)</td>\n",
              "      <td>Adventure|Children|Fantasy</td>\n",
              "    </tr>\n",
              "    <tr>\n",
              "      <th>2</th>\n",
              "      <td>3</td>\n",
              "      <td>Grumpier Old Men (1995)</td>\n",
              "      <td>Comedy|Romance</td>\n",
              "    </tr>\n",
              "    <tr>\n",
              "      <th>3</th>\n",
              "      <td>4</td>\n",
              "      <td>Waiting to Exhale (1995)</td>\n",
              "      <td>Comedy|Drama|Romance</td>\n",
              "    </tr>\n",
              "    <tr>\n",
              "      <th>4</th>\n",
              "      <td>5</td>\n",
              "      <td>Father of the Bride Part II (1995)</td>\n",
              "      <td>Comedy</td>\n",
              "    </tr>\n",
              "    <tr>\n",
              "      <th>...</th>\n",
              "      <td>...</td>\n",
              "      <td>...</td>\n",
              "      <td>...</td>\n",
              "    </tr>\n",
              "    <tr>\n",
              "      <th>27273</th>\n",
              "      <td>131254</td>\n",
              "      <td>Kein Bund für's Leben (2007)</td>\n",
              "      <td>Comedy</td>\n",
              "    </tr>\n",
              "    <tr>\n",
              "      <th>27274</th>\n",
              "      <td>131256</td>\n",
              "      <td>Feuer, Eis &amp; Dosenbier (2002)</td>\n",
              "      <td>Comedy</td>\n",
              "    </tr>\n",
              "    <tr>\n",
              "      <th>27275</th>\n",
              "      <td>131258</td>\n",
              "      <td>The Pirates (2014)</td>\n",
              "      <td>Adventure</td>\n",
              "    </tr>\n",
              "    <tr>\n",
              "      <th>27276</th>\n",
              "      <td>131260</td>\n",
              "      <td>Rentun Ruusu (2001)</td>\n",
              "      <td>(no genres listed)</td>\n",
              "    </tr>\n",
              "    <tr>\n",
              "      <th>27277</th>\n",
              "      <td>131262</td>\n",
              "      <td>Innocence (2014)</td>\n",
              "      <td>Adventure|Fantasy|Horror</td>\n",
              "    </tr>\n",
              "  </tbody>\n",
              "</table>\n",
              "<p>27278 rows × 3 columns</p>\n",
              "</div>"
            ],
            "text/plain": [
              "       movieId                               title  \\\n",
              "0            1                    Toy Story (1995)   \n",
              "1            2                      Jumanji (1995)   \n",
              "2            3             Grumpier Old Men (1995)   \n",
              "3            4            Waiting to Exhale (1995)   \n",
              "4            5  Father of the Bride Part II (1995)   \n",
              "...        ...                                 ...   \n",
              "27273   131254        Kein Bund für's Leben (2007)   \n",
              "27274   131256       Feuer, Eis & Dosenbier (2002)   \n",
              "27275   131258                  The Pirates (2014)   \n",
              "27276   131260                 Rentun Ruusu (2001)   \n",
              "27277   131262                    Innocence (2014)   \n",
              "\n",
              "                                            genres  \n",
              "0      Adventure|Animation|Children|Comedy|Fantasy  \n",
              "1                       Adventure|Children|Fantasy  \n",
              "2                                   Comedy|Romance  \n",
              "3                             Comedy|Drama|Romance  \n",
              "4                                           Comedy  \n",
              "...                                            ...  \n",
              "27273                                       Comedy  \n",
              "27274                                       Comedy  \n",
              "27275                                    Adventure  \n",
              "27276                           (no genres listed)  \n",
              "27277                     Adventure|Fantasy|Horror  \n",
              "\n",
              "[27278 rows x 3 columns]"
            ]
          },
          "execution_count": 63,
          "metadata": {},
          "output_type": "execute_result"
        }
      ],
      "source": [
        "user_5 = movies.copy()      # Create a shallow copy for the movies dataset\n",
        "user_5"
      ]
    },
    {
      "cell_type": "markdown",
      "id": "dab25142",
      "metadata": {
        "id": "dab25142"
      },
      "source": [
        "g. Train a recommender system using the SVD object and predict the\n",
        "ratings for user id ‘5’"
      ]
    },
    {
      "cell_type": "code",
      "execution_count": null,
      "id": "6a8e81fc",
      "metadata": {
        "id": "6a8e81fc",
        "outputId": "e12ff08d-c141-4a89-ee28-5b53703f5c16"
      },
      "outputs": [
        {
          "data": {
            "text/html": [
              "<div>\n",
              "<style scoped>\n",
              "    .dataframe tbody tr th:only-of-type {\n",
              "        vertical-align: middle;\n",
              "    }\n",
              "\n",
              "    .dataframe tbody tr th {\n",
              "        vertical-align: top;\n",
              "    }\n",
              "\n",
              "    .dataframe thead th {\n",
              "        text-align: right;\n",
              "    }\n",
              "</style>\n",
              "<table border=\"1\" class=\"dataframe\">\n",
              "  <thead>\n",
              "    <tr style=\"text-align: right;\">\n",
              "      <th></th>\n",
              "      <th>title</th>\n",
              "      <th>genres</th>\n",
              "      <th>Estimate_Score</th>\n",
              "    </tr>\n",
              "  </thead>\n",
              "  <tbody>\n",
              "    <tr>\n",
              "      <th>1173</th>\n",
              "      <td>Raiders of the Lost Ark (Indiana Jones and the...</td>\n",
              "      <td>Action|Adventure</td>\n",
              "      <td>5.000000</td>\n",
              "    </tr>\n",
              "    <tr>\n",
              "      <th>523</th>\n",
              "      <td>Schindler's List (1993)</td>\n",
              "      <td>Drama|War</td>\n",
              "      <td>5.000000</td>\n",
              "    </tr>\n",
              "    <tr>\n",
              "      <th>2486</th>\n",
              "      <td>Matrix, The (1999)</td>\n",
              "      <td>Action|Sci-Fi|Thriller</td>\n",
              "      <td>5.000000</td>\n",
              "    </tr>\n",
              "    <tr>\n",
              "      <th>1242</th>\n",
              "      <td>Back to the Future (1985)</td>\n",
              "      <td>Adventure|Comedy|Sci-Fi</td>\n",
              "      <td>5.000000</td>\n",
              "    </tr>\n",
              "    <tr>\n",
              "      <th>315</th>\n",
              "      <td>Shawshank Redemption, The (1994)</td>\n",
              "      <td>Crime|Drama</td>\n",
              "      <td>5.000000</td>\n",
              "    </tr>\n",
              "    <tr>\n",
              "      <th>...</th>\n",
              "      <td>...</td>\n",
              "      <td>...</td>\n",
              "      <td>...</td>\n",
              "    </tr>\n",
              "    <tr>\n",
              "      <th>4679</th>\n",
              "      <td>Glitter (2001)</td>\n",
              "      <td>Drama|Musical|Romance</td>\n",
              "      <td>2.124124</td>\n",
              "    </tr>\n",
              "    <tr>\n",
              "      <th>9758</th>\n",
              "      <td>Son of the Mask (2005)</td>\n",
              "      <td>Adventure|Children|Comedy|Fantasy</td>\n",
              "      <td>2.098284</td>\n",
              "    </tr>\n",
              "    <tr>\n",
              "      <th>4147</th>\n",
              "      <td>Pokémon 3: The Movie (2001)</td>\n",
              "      <td>Animation|Children</td>\n",
              "      <td>1.996552</td>\n",
              "    </tr>\n",
              "    <tr>\n",
              "      <th>6477</th>\n",
              "      <td>Gigli (2003)</td>\n",
              "      <td>Comedy|Crime|Romance</td>\n",
              "      <td>1.947570</td>\n",
              "    </tr>\n",
              "    <tr>\n",
              "      <th>6373</th>\n",
              "      <td>From Justin to Kelly (2003)</td>\n",
              "      <td>Musical|Romance</td>\n",
              "      <td>1.792997</td>\n",
              "    </tr>\n",
              "  </tbody>\n",
              "</table>\n",
              "<p>27278 rows × 3 columns</p>\n",
              "</div>"
            ],
            "text/plain": [
              "                                                  title  \\\n",
              "1173  Raiders of the Lost Ark (Indiana Jones and the...   \n",
              "523                             Schindler's List (1993)   \n",
              "2486                                 Matrix, The (1999)   \n",
              "1242                          Back to the Future (1985)   \n",
              "315                    Shawshank Redemption, The (1994)   \n",
              "...                                                 ...   \n",
              "4679                                     Glitter (2001)   \n",
              "9758                             Son of the Mask (2005)   \n",
              "4147                        Pokémon 3: The Movie (2001)   \n",
              "6477                                       Gigli (2003)   \n",
              "6373                        From Justin to Kelly (2003)   \n",
              "\n",
              "                                 genres  Estimate_Score  \n",
              "1173                   Action|Adventure        5.000000  \n",
              "523                           Drama|War        5.000000  \n",
              "2486             Action|Sci-Fi|Thriller        5.000000  \n",
              "1242            Adventure|Comedy|Sci-Fi        5.000000  \n",
              "315                         Crime|Drama        5.000000  \n",
              "...                                 ...             ...  \n",
              "4679              Drama|Musical|Romance        2.124124  \n",
              "9758  Adventure|Children|Comedy|Fantasy        2.098284  \n",
              "4147                 Animation|Children        1.996552  \n",
              "6477               Comedy|Crime|Romance        1.947570  \n",
              "6373                    Musical|Romance        1.792997  \n",
              "\n",
              "[27278 rows x 3 columns]"
            ]
          },
          "execution_count": 61,
          "metadata": {},
          "output_type": "execute_result"
        }
      ],
      "source": [
        "user_5 = movies.copy()\n",
        "\n",
        "#Reset the index for user_5 dataset\n",
        "user_5 = user_5.reset_index()\n",
        "\n",
        "# getting full dataset\n",
        "data = Dataset.load_from_df(ratings[['userId', 'movieId', 'rating']], reader)\n",
        "\n",
        "#create a training set for svd\n",
        "trainset = data.build_full_trainset()\n",
        "svd.fit(trainset)\n",
        "\n",
        "#Predict the ratings for user5\n",
        "user_5['Estimate_Score'] = user_5['movieId'].apply(lambda x: svd.predict(5, x).est)\n",
        "\n",
        "#Drop extra columns from the user5 data frame\n",
        "user_5 = user_5.drop(['movieId','index'], axis = 1)\n",
        "\n",
        "# Sort predicted ratings for user5 in descending order\n",
        "user_5 = user_5.sort_values('Estimate_Score', ascending=False)\n",
        "user_5"
      ]
    },
    {
      "cell_type": "markdown",
      "id": "06df1047",
      "metadata": {
        "id": "06df1047"
      },
      "source": [
        "\n",
        "h. Print the top10 movie recommendations for the user id ‘5"
      ]
    },
    {
      "cell_type": "code",
      "execution_count": null,
      "id": "260d495f",
      "metadata": {
        "id": "260d495f",
        "outputId": "036a972a-e4ab-4eea-dda2-d770547ccf4c"
      },
      "outputs": [
        {
          "data": {
            "text/html": [
              "<div>\n",
              "<style scoped>\n",
              "    .dataframe tbody tr th:only-of-type {\n",
              "        vertical-align: middle;\n",
              "    }\n",
              "\n",
              "    .dataframe tbody tr th {\n",
              "        vertical-align: top;\n",
              "    }\n",
              "\n",
              "    .dataframe thead th {\n",
              "        text-align: right;\n",
              "    }\n",
              "</style>\n",
              "<table border=\"1\" class=\"dataframe\">\n",
              "  <thead>\n",
              "    <tr style=\"text-align: right;\">\n",
              "      <th></th>\n",
              "      <th>title</th>\n",
              "      <th>genres</th>\n",
              "      <th>Estimate_Score</th>\n",
              "    </tr>\n",
              "  </thead>\n",
              "  <tbody>\n",
              "    <tr>\n",
              "      <th>5853</th>\n",
              "      <td>Lord of the Rings: The Two Towers, The (2002)</td>\n",
              "      <td>Adventure|Fantasy</td>\n",
              "      <td>5.000000</td>\n",
              "    </tr>\n",
              "    <tr>\n",
              "      <th>1172</th>\n",
              "      <td>Princess Bride, The (1987)</td>\n",
              "      <td>Action|Adventure|Comedy|Fantasy|Romance</td>\n",
              "      <td>5.000000</td>\n",
              "    </tr>\n",
              "    <tr>\n",
              "      <th>3487</th>\n",
              "      <td>Gladiator (2000)</td>\n",
              "      <td>Action|Adventure|Drama</td>\n",
              "      <td>5.000000</td>\n",
              "    </tr>\n",
              "    <tr>\n",
              "      <th>18990</th>\n",
              "      <td>Black Mirror (2011)</td>\n",
              "      <td>Drama|Sci-Fi</td>\n",
              "      <td>5.000000</td>\n",
              "    </tr>\n",
              "    <tr>\n",
              "      <th>1173</th>\n",
              "      <td>Raiders of the Lost Ark (Indiana Jones and the...</td>\n",
              "      <td>Action|Adventure</td>\n",
              "      <td>5.000000</td>\n",
              "    </tr>\n",
              "    <tr>\n",
              "      <th>148</th>\n",
              "      <td>Apollo 13 (1995)</td>\n",
              "      <td>Adventure|Drama|IMAX</td>\n",
              "      <td>4.995616</td>\n",
              "    </tr>\n",
              "    <tr>\n",
              "      <th>453</th>\n",
              "      <td>Fugitive, The (1993)</td>\n",
              "      <td>Thriller</td>\n",
              "      <td>4.974606</td>\n",
              "    </tr>\n",
              "    <tr>\n",
              "      <th>6271</th>\n",
              "      <td>Finding Nemo (2003)</td>\n",
              "      <td>Adventure|Animation|Children|Comedy</td>\n",
              "      <td>4.954023</td>\n",
              "    </tr>\n",
              "    <tr>\n",
              "      <th>4897</th>\n",
              "      <td>Lord of the Rings: The Fellowship of the Ring,...</td>\n",
              "      <td>Adventure|Fantasy</td>\n",
              "      <td>4.952558</td>\n",
              "    </tr>\n",
              "    <tr>\n",
              "      <th>2486</th>\n",
              "      <td>Matrix, The (1999)</td>\n",
              "      <td>Action|Sci-Fi|Thriller</td>\n",
              "      <td>4.949665</td>\n",
              "    </tr>\n",
              "  </tbody>\n",
              "</table>\n",
              "</div>"
            ],
            "text/plain": [
              "                                                   title  \\\n",
              "5853       Lord of the Rings: The Two Towers, The (2002)   \n",
              "1172                          Princess Bride, The (1987)   \n",
              "3487                                    Gladiator (2000)   \n",
              "18990                                Black Mirror (2011)   \n",
              "1173   Raiders of the Lost Ark (Indiana Jones and the...   \n",
              "148                                     Apollo 13 (1995)   \n",
              "453                                 Fugitive, The (1993)   \n",
              "6271                                 Finding Nemo (2003)   \n",
              "4897   Lord of the Rings: The Fellowship of the Ring,...   \n",
              "2486                                  Matrix, The (1999)   \n",
              "\n",
              "                                        genres  Estimate_Score  \n",
              "5853                         Adventure|Fantasy        5.000000  \n",
              "1172   Action|Adventure|Comedy|Fantasy|Romance        5.000000  \n",
              "3487                    Action|Adventure|Drama        5.000000  \n",
              "18990                             Drama|Sci-Fi        5.000000  \n",
              "1173                          Action|Adventure        5.000000  \n",
              "148                       Adventure|Drama|IMAX        4.995616  \n",
              "453                                   Thriller        4.974606  \n",
              "6271       Adventure|Animation|Children|Comedy        4.954023  \n",
              "4897                         Adventure|Fantasy        4.952558  \n",
              "2486                    Action|Sci-Fi|Thriller        4.949665  "
            ]
          },
          "execution_count": 59,
          "metadata": {},
          "output_type": "execute_result"
        }
      ],
      "source": [
        "user_5.head(10)    #Print top 10 recommendations"
      ]
    },
    {
      "cell_type": "markdown",
      "id": "89282efe",
      "metadata": {
        "id": "89282efe"
      },
      "source": [
        "Thank You"
      ]
    }
  ],
  "metadata": {
    "kernelspec": {
      "display_name": "Python 3 (ipykernel)",
      "language": "python",
      "name": "python3"
    },
    "language_info": {
      "codemirror_mode": {
        "name": "ipython",
        "version": 3
      },
      "file_extension": ".py",
      "mimetype": "text/x-python",
      "name": "python",
      "nbconvert_exporter": "python",
      "pygments_lexer": "ipython3",
      "version": "3.9.12"
    },
    "colab": {
      "provenance": []
    }
  },
  "nbformat": 4,
  "nbformat_minor": 5
}